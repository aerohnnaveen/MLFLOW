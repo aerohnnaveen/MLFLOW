{
 "cells": [
  {
   "cell_type": "markdown",
   "id": "f7fbbfc9",
   "metadata": {
    "papermill": {
     "duration": 0.020979,
     "end_time": "2023-08-20T11:07:16.427567",
     "exception": false,
     "start_time": "2023-08-20T11:07:16.406588",
     "status": "completed"
    },
    "tags": []
   },
   "source": [
    "# Wine Quality Prediction "
   ]
  },
  {
   "cell_type": "code",
   "execution_count": 1,
   "id": "87a85497",
   "metadata": {
    "execution": {
     "iopub.execute_input": "2023-08-20T11:07:16.472803Z",
     "iopub.status.busy": "2023-08-20T11:07:16.472367Z",
     "iopub.status.idle": "2023-08-20T11:07:18.094864Z",
     "shell.execute_reply": "2023-08-20T11:07:18.093978Z"
    },
    "papermill": {
     "duration": 1.6473,
     "end_time": "2023-08-20T11:07:18.097635",
     "exception": false,
     "start_time": "2023-08-20T11:07:16.450335",
     "status": "completed"
    },
    "tags": []
   },
   "outputs": [],
   "source": [
    "import os \n",
    "from tkinter import E\n",
    "import argparse\n",
    "import numpy as np\n",
    "import pandas as pd\n",
    "import matplotlib.pyplot as plt\n",
    "import seaborn as sns\n",
    "import sklearn\n",
    "from sklearn.linear_model import ElasticNet\n",
    "from sklearn.metrics import mean_absolute_error, mean_squared_error, r2_score\n",
    "from sklearn.model_selection import train_test_split\n",
    "from sklearn.linear_model import ElasticNet\n",
    "import mlflow\n",
    "import mlflow.sklearn\n",
    "from mlflow.tracking import MlflowClient"
   ]
  },
  {
   "cell_type": "markdown",
   "id": "6c13ffa8",
   "metadata": {},
   "source": [
    "# Hyper Paramater Tunning"
   ]
  },
  {
   "cell_type": "code",
   "execution_count": 2,
   "id": "61d7e4dc",
   "metadata": {},
   "outputs": [],
   "source": [
    "from hyperopt import fmin,tpe,hp,STATUS_OK,Trials\n",
    "from hyperopt.pyll import scope"
   ]
  },
  {
   "cell_type": "markdown",
   "id": "e94aaf3a",
   "metadata": {},
   "source": [
    "# ML flow Tracking"
   ]
  },
  {
   "cell_type": "code",
   "execution_count": 3,
   "id": "40afad44",
   "metadata": {},
   "outputs": [
    {
     "name": "stdout",
     "output_type": "stream",
     "text": [
      "Active run_id: f7102877637c4b9e9fa2cf21b371980e\n"
     ]
    }
   ],
   "source": [
    "import mlflow\n",
    "#mlflow.set_tracking_uri('http://localhost:5000')\n",
    "#mlflow.set_tracking_uri(\"sqlite:///winequality2.db\")\n",
    "mlflow.set_tracking_uri(\"http://localhost:5000\")\n",
    "mlflow.set_experiment(\"wine_quality_2\")\n",
    "mlflow.start_run()\n",
    "run = mlflow.active_run()\n",
    "print(\"Active run_id: {}\".format(run.info.run_id))"
   ]
  },
  {
   "cell_type": "code",
   "execution_count": 4,
   "id": "d0270da4",
   "metadata": {
    "execution": {
     "iopub.execute_input": "2023-08-20T11:07:18.142343Z",
     "iopub.status.busy": "2023-08-20T11:07:18.141275Z",
     "iopub.status.idle": "2023-08-20T11:07:18.170771Z",
     "shell.execute_reply": "2023-08-20T11:07:18.169700Z"
    },
    "papermill": {
     "duration": 0.05445,
     "end_time": "2023-08-20T11:07:18.173475",
     "exception": false,
     "start_time": "2023-08-20T11:07:18.119025",
     "status": "completed"
    },
    "tags": []
   },
   "outputs": [],
   "source": [
    "wine=pd.read_csv('H:\\Metaverse\\MLprob\\mlflow\\wine-quality.csv')"
   ]
  },
  {
   "cell_type": "code",
   "execution_count": null,
   "id": "8efe4894",
   "metadata": {
    "execution": {
     "iopub.execute_input": "2023-08-20T11:07:18.220726Z",
     "iopub.status.busy": "2023-08-20T11:07:18.219980Z",
     "iopub.status.idle": "2023-08-20T11:07:18.250163Z",
     "shell.execute_reply": "2023-08-20T11:07:18.249262Z"
    },
    "papermill": {
     "duration": 0.05703,
     "end_time": "2023-08-20T11:07:18.252445",
     "exception": false,
     "start_time": "2023-08-20T11:07:18.195415",
     "status": "completed"
    },
    "tags": []
   },
   "outputs": [],
   "source": [
    "wine.head()"
   ]
  },
  {
   "cell_type": "code",
   "execution_count": null,
   "id": "d37b2e2f",
   "metadata": {
    "execution": {
     "iopub.execute_input": "2023-08-20T11:07:18.297898Z",
     "iopub.status.busy": "2023-08-20T11:07:18.297117Z",
     "iopub.status.idle": "2023-08-20T11:07:18.321230Z",
     "shell.execute_reply": "2023-08-20T11:07:18.319949Z"
    },
    "papermill": {
     "duration": 0.050125,
     "end_time": "2023-08-20T11:07:18.323981",
     "exception": false,
     "start_time": "2023-08-20T11:07:18.273856",
     "status": "completed"
    },
    "tags": []
   },
   "outputs": [],
   "source": [
    "wine.tail()"
   ]
  },
  {
   "cell_type": "code",
   "execution_count": null,
   "id": "85f3c233",
   "metadata": {
    "execution": {
     "iopub.execute_input": "2023-08-20T11:07:18.370977Z",
     "iopub.status.busy": "2023-08-20T11:07:18.370108Z",
     "iopub.status.idle": "2023-08-20T11:07:18.377076Z",
     "shell.execute_reply": "2023-08-20T11:07:18.375909Z"
    },
    "papermill": {
     "duration": 0.033162,
     "end_time": "2023-08-20T11:07:18.379450",
     "exception": false,
     "start_time": "2023-08-20T11:07:18.346288",
     "status": "completed"
    },
    "tags": []
   },
   "outputs": [],
   "source": [
    "wine.shape"
   ]
  },
  {
   "cell_type": "code",
   "execution_count": null,
   "id": "d2730602",
   "metadata": {
    "execution": {
     "iopub.execute_input": "2023-08-20T11:07:18.426620Z",
     "iopub.status.busy": "2023-08-20T11:07:18.425540Z",
     "iopub.status.idle": "2023-08-20T11:07:18.434483Z",
     "shell.execute_reply": "2023-08-20T11:07:18.433348Z"
    },
    "papermill": {
     "duration": 0.034939,
     "end_time": "2023-08-20T11:07:18.436849",
     "exception": false,
     "start_time": "2023-08-20T11:07:18.401910",
     "status": "completed"
    },
    "tags": []
   },
   "outputs": [],
   "source": [
    "wine.size"
   ]
  },
  {
   "cell_type": "code",
   "execution_count": 5,
   "id": "1c004de3",
   "metadata": {
    "execution": {
     "iopub.execute_input": "2023-08-20T11:07:18.485057Z",
     "iopub.status.busy": "2023-08-20T11:07:18.484350Z",
     "iopub.status.idle": "2023-08-20T11:07:18.496992Z",
     "shell.execute_reply": "2023-08-20T11:07:18.495576Z"
    },
    "papermill": {
     "duration": 0.039865,
     "end_time": "2023-08-20T11:07:18.499407",
     "exception": false,
     "start_time": "2023-08-20T11:07:18.459542",
     "status": "completed"
    },
    "tags": []
   },
   "outputs": [
    {
     "data": {
      "text/plain": [
       "fixed acidity           0\n",
       "volatile acidity        0\n",
       "citric acid             0\n",
       "residual sugar          0\n",
       "chlorides               0\n",
       "free sulfur dioxide     0\n",
       "total sulfur dioxide    0\n",
       "density                 0\n",
       "pH                      0\n",
       "sulphates               0\n",
       "alcohol                 0\n",
       "quality                 0\n",
       "dtype: int64"
      ]
     },
     "execution_count": 5,
     "metadata": {},
     "output_type": "execute_result"
    }
   ],
   "source": [
    "wine.isna().sum()"
   ]
  },
  {
   "cell_type": "code",
   "execution_count": 6,
   "id": "09df988d",
   "metadata": {
    "execution": {
     "iopub.execute_input": "2023-08-20T11:07:18.546165Z",
     "iopub.status.busy": "2023-08-20T11:07:18.545444Z",
     "iopub.status.idle": "2023-08-20T11:07:18.551174Z",
     "shell.execute_reply": "2023-08-20T11:07:18.550231Z"
    },
    "papermill": {
     "duration": 0.031853,
     "end_time": "2023-08-20T11:07:18.553665",
     "exception": false,
     "start_time": "2023-08-20T11:07:18.521812",
     "status": "completed"
    },
    "tags": []
   },
   "outputs": [],
   "source": [
    "wine.columns=wine.columns.str.strip()"
   ]
  },
  {
   "cell_type": "code",
   "execution_count": 7,
   "id": "fd1698f5",
   "metadata": {
    "execution": {
     "iopub.execute_input": "2023-08-20T11:07:18.600641Z",
     "iopub.status.busy": "2023-08-20T11:07:18.599921Z",
     "iopub.status.idle": "2023-08-20T11:07:18.605483Z",
     "shell.execute_reply": "2023-08-20T11:07:18.604637Z"
    },
    "papermill": {
     "duration": 0.031738,
     "end_time": "2023-08-20T11:07:18.607817",
     "exception": false,
     "start_time": "2023-08-20T11:07:18.576079",
     "status": "completed"
    },
    "tags": []
   },
   "outputs": [],
   "source": [
    "wine.columns=wine.columns.str.lower()"
   ]
  },
  {
   "cell_type": "code",
   "execution_count": 8,
   "id": "5d84beed",
   "metadata": {
    "execution": {
     "iopub.execute_input": "2023-08-20T11:07:18.654216Z",
     "iopub.status.busy": "2023-08-20T11:07:18.653526Z",
     "iopub.status.idle": "2023-08-20T11:07:18.659066Z",
     "shell.execute_reply": "2023-08-20T11:07:18.658203Z"
    },
    "papermill": {
     "duration": 0.031185,
     "end_time": "2023-08-20T11:07:18.661339",
     "exception": false,
     "start_time": "2023-08-20T11:07:18.630154",
     "status": "completed"
    },
    "tags": []
   },
   "outputs": [],
   "source": [
    "wine.columns=wine.columns.str.replace(' ','_')"
   ]
  },
  {
   "cell_type": "code",
   "execution_count": 9,
   "id": "1c57afe2",
   "metadata": {
    "execution": {
     "iopub.execute_input": "2023-08-20T11:07:18.707839Z",
     "iopub.status.busy": "2023-08-20T11:07:18.707190Z",
     "iopub.status.idle": "2023-08-20T11:07:18.714274Z",
     "shell.execute_reply": "2023-08-20T11:07:18.713226Z"
    },
    "papermill": {
     "duration": 0.033301,
     "end_time": "2023-08-20T11:07:18.716517",
     "exception": false,
     "start_time": "2023-08-20T11:07:18.683216",
     "status": "completed"
    },
    "tags": []
   },
   "outputs": [
    {
     "data": {
      "text/plain": [
       "Index(['fixed_acidity', 'volatile_acidity', 'citric_acid', 'residual_sugar',\n",
       "       'chlorides', 'free_sulfur_dioxide', 'total_sulfur_dioxide', 'density',\n",
       "       'ph', 'sulphates', 'alcohol', 'quality'],\n",
       "      dtype='object')"
      ]
     },
     "execution_count": 9,
     "metadata": {},
     "output_type": "execute_result"
    }
   ],
   "source": [
    "wine.columns"
   ]
  },
  {
   "cell_type": "code",
   "execution_count": 10,
   "id": "fa9b4ed0",
   "metadata": {
    "execution": {
     "iopub.execute_input": "2023-08-20T11:07:18.762636Z",
     "iopub.status.busy": "2023-08-20T11:07:18.762000Z",
     "iopub.status.idle": "2023-08-20T11:07:18.802363Z",
     "shell.execute_reply": "2023-08-20T11:07:18.801469Z"
    },
    "papermill": {
     "duration": 0.066524,
     "end_time": "2023-08-20T11:07:18.804918",
     "exception": false,
     "start_time": "2023-08-20T11:07:18.738394",
     "status": "completed"
    },
    "tags": []
   },
   "outputs": [
    {
     "data": {
      "text/html": [
       "<div>\n",
       "<style scoped>\n",
       "    .dataframe tbody tr th:only-of-type {\n",
       "        vertical-align: middle;\n",
       "    }\n",
       "\n",
       "    .dataframe tbody tr th {\n",
       "        vertical-align: top;\n",
       "    }\n",
       "\n",
       "    .dataframe thead th {\n",
       "        text-align: right;\n",
       "    }\n",
       "</style>\n",
       "<table border=\"1\" class=\"dataframe\">\n",
       "  <thead>\n",
       "    <tr style=\"text-align: right;\">\n",
       "      <th></th>\n",
       "      <th>fixed_acidity</th>\n",
       "      <th>volatile_acidity</th>\n",
       "      <th>citric_acid</th>\n",
       "      <th>residual_sugar</th>\n",
       "      <th>chlorides</th>\n",
       "      <th>free_sulfur_dioxide</th>\n",
       "      <th>total_sulfur_dioxide</th>\n",
       "      <th>density</th>\n",
       "      <th>ph</th>\n",
       "      <th>sulphates</th>\n",
       "      <th>alcohol</th>\n",
       "      <th>quality</th>\n",
       "    </tr>\n",
       "  </thead>\n",
       "  <tbody>\n",
       "    <tr>\n",
       "      <th>0</th>\n",
       "      <td>7.0</td>\n",
       "      <td>0.27</td>\n",
       "      <td>0.36</td>\n",
       "      <td>20.7</td>\n",
       "      <td>0.045</td>\n",
       "      <td>45.0</td>\n",
       "      <td>170.0</td>\n",
       "      <td>1.00100</td>\n",
       "      <td>3.00</td>\n",
       "      <td>0.45</td>\n",
       "      <td>8.800000</td>\n",
       "      <td>6</td>\n",
       "    </tr>\n",
       "    <tr>\n",
       "      <th>1</th>\n",
       "      <td>6.3</td>\n",
       "      <td>0.30</td>\n",
       "      <td>0.34</td>\n",
       "      <td>1.6</td>\n",
       "      <td>0.049</td>\n",
       "      <td>14.0</td>\n",
       "      <td>132.0</td>\n",
       "      <td>0.99400</td>\n",
       "      <td>3.30</td>\n",
       "      <td>0.49</td>\n",
       "      <td>9.500000</td>\n",
       "      <td>6</td>\n",
       "    </tr>\n",
       "    <tr>\n",
       "      <th>2</th>\n",
       "      <td>8.1</td>\n",
       "      <td>0.28</td>\n",
       "      <td>0.40</td>\n",
       "      <td>6.9</td>\n",
       "      <td>0.050</td>\n",
       "      <td>30.0</td>\n",
       "      <td>97.0</td>\n",
       "      <td>0.99510</td>\n",
       "      <td>3.26</td>\n",
       "      <td>0.44</td>\n",
       "      <td>10.100000</td>\n",
       "      <td>6</td>\n",
       "    </tr>\n",
       "    <tr>\n",
       "      <th>3</th>\n",
       "      <td>7.2</td>\n",
       "      <td>0.23</td>\n",
       "      <td>0.32</td>\n",
       "      <td>8.5</td>\n",
       "      <td>0.058</td>\n",
       "      <td>47.0</td>\n",
       "      <td>186.0</td>\n",
       "      <td>0.99560</td>\n",
       "      <td>3.19</td>\n",
       "      <td>0.40</td>\n",
       "      <td>9.900000</td>\n",
       "      <td>6</td>\n",
       "    </tr>\n",
       "    <tr>\n",
       "      <th>4</th>\n",
       "      <td>7.2</td>\n",
       "      <td>0.23</td>\n",
       "      <td>0.32</td>\n",
       "      <td>8.5</td>\n",
       "      <td>0.058</td>\n",
       "      <td>47.0</td>\n",
       "      <td>186.0</td>\n",
       "      <td>0.99560</td>\n",
       "      <td>3.19</td>\n",
       "      <td>0.40</td>\n",
       "      <td>9.900000</td>\n",
       "      <td>6</td>\n",
       "    </tr>\n",
       "    <tr>\n",
       "      <th>...</th>\n",
       "      <td>...</td>\n",
       "      <td>...</td>\n",
       "      <td>...</td>\n",
       "      <td>...</td>\n",
       "      <td>...</td>\n",
       "      <td>...</td>\n",
       "      <td>...</td>\n",
       "      <td>...</td>\n",
       "      <td>...</td>\n",
       "      <td>...</td>\n",
       "      <td>...</td>\n",
       "      <td>...</td>\n",
       "    </tr>\n",
       "    <tr>\n",
       "      <th>4851</th>\n",
       "      <td>6.4</td>\n",
       "      <td>0.33</td>\n",
       "      <td>0.44</td>\n",
       "      <td>8.9</td>\n",
       "      <td>0.055</td>\n",
       "      <td>52.0</td>\n",
       "      <td>164.0</td>\n",
       "      <td>0.99488</td>\n",
       "      <td>3.10</td>\n",
       "      <td>0.48</td>\n",
       "      <td>9.600000</td>\n",
       "      <td>5</td>\n",
       "    </tr>\n",
       "    <tr>\n",
       "      <th>4855</th>\n",
       "      <td>7.1</td>\n",
       "      <td>0.23</td>\n",
       "      <td>0.39</td>\n",
       "      <td>13.7</td>\n",
       "      <td>0.058</td>\n",
       "      <td>26.0</td>\n",
       "      <td>172.0</td>\n",
       "      <td>0.99755</td>\n",
       "      <td>2.90</td>\n",
       "      <td>0.46</td>\n",
       "      <td>9.000000</td>\n",
       "      <td>6</td>\n",
       "    </tr>\n",
       "    <tr>\n",
       "      <th>4856</th>\n",
       "      <td>7.1</td>\n",
       "      <td>0.23</td>\n",
       "      <td>0.39</td>\n",
       "      <td>13.7</td>\n",
       "      <td>0.058</td>\n",
       "      <td>26.0</td>\n",
       "      <td>172.0</td>\n",
       "      <td>0.99755</td>\n",
       "      <td>2.90</td>\n",
       "      <td>0.46</td>\n",
       "      <td>9.000000</td>\n",
       "      <td>6</td>\n",
       "    </tr>\n",
       "    <tr>\n",
       "      <th>4879</th>\n",
       "      <td>6.6</td>\n",
       "      <td>0.34</td>\n",
       "      <td>0.40</td>\n",
       "      <td>8.1</td>\n",
       "      <td>0.046</td>\n",
       "      <td>68.0</td>\n",
       "      <td>170.0</td>\n",
       "      <td>0.99494</td>\n",
       "      <td>3.15</td>\n",
       "      <td>0.50</td>\n",
       "      <td>9.533333</td>\n",
       "      <td>6</td>\n",
       "    </tr>\n",
       "    <tr>\n",
       "      <th>4880</th>\n",
       "      <td>6.6</td>\n",
       "      <td>0.34</td>\n",
       "      <td>0.40</td>\n",
       "      <td>8.1</td>\n",
       "      <td>0.046</td>\n",
       "      <td>68.0</td>\n",
       "      <td>170.0</td>\n",
       "      <td>0.99494</td>\n",
       "      <td>3.15</td>\n",
       "      <td>0.50</td>\n",
       "      <td>9.533333</td>\n",
       "      <td>6</td>\n",
       "    </tr>\n",
       "  </tbody>\n",
       "</table>\n",
       "<p>1709 rows × 12 columns</p>\n",
       "</div>"
      ],
      "text/plain": [
       "      fixed_acidity  volatile_acidity  citric_acid  residual_sugar  chlorides  \\\n",
       "0               7.0              0.27         0.36            20.7      0.045   \n",
       "1               6.3              0.30         0.34             1.6      0.049   \n",
       "2               8.1              0.28         0.40             6.9      0.050   \n",
       "3               7.2              0.23         0.32             8.5      0.058   \n",
       "4               7.2              0.23         0.32             8.5      0.058   \n",
       "...             ...               ...          ...             ...        ...   \n",
       "4851            6.4              0.33         0.44             8.9      0.055   \n",
       "4855            7.1              0.23         0.39            13.7      0.058   \n",
       "4856            7.1              0.23         0.39            13.7      0.058   \n",
       "4879            6.6              0.34         0.40             8.1      0.046   \n",
       "4880            6.6              0.34         0.40             8.1      0.046   \n",
       "\n",
       "      free_sulfur_dioxide  total_sulfur_dioxide  density    ph  sulphates  \\\n",
       "0                    45.0                 170.0  1.00100  3.00       0.45   \n",
       "1                    14.0                 132.0  0.99400  3.30       0.49   \n",
       "2                    30.0                  97.0  0.99510  3.26       0.44   \n",
       "3                    47.0                 186.0  0.99560  3.19       0.40   \n",
       "4                    47.0                 186.0  0.99560  3.19       0.40   \n",
       "...                   ...                   ...      ...   ...        ...   \n",
       "4851                 52.0                 164.0  0.99488  3.10       0.48   \n",
       "4855                 26.0                 172.0  0.99755  2.90       0.46   \n",
       "4856                 26.0                 172.0  0.99755  2.90       0.46   \n",
       "4879                 68.0                 170.0  0.99494  3.15       0.50   \n",
       "4880                 68.0                 170.0  0.99494  3.15       0.50   \n",
       "\n",
       "        alcohol  quality  \n",
       "0      8.800000        6  \n",
       "1      9.500000        6  \n",
       "2     10.100000        6  \n",
       "3      9.900000        6  \n",
       "4      9.900000        6  \n",
       "...         ...      ...  \n",
       "4851   9.600000        5  \n",
       "4855   9.000000        6  \n",
       "4856   9.000000        6  \n",
       "4879   9.533333        6  \n",
       "4880   9.533333        6  \n",
       "\n",
       "[1709 rows x 12 columns]"
      ]
     },
     "execution_count": 10,
     "metadata": {},
     "output_type": "execute_result"
    }
   ],
   "source": [
    "wine[wine.duplicated(subset=['fixed_acidity', 'volatile_acidity', 'citric_acid', 'residual_sugar',\n",
    "       'chlorides', 'free_sulfur_dioxide', 'total_sulfur_dioxide', 'density',\n",
    "       'ph', 'sulphates', 'alcohol','quality'],keep=False)]"
   ]
  },
  {
   "cell_type": "code",
   "execution_count": 11,
   "id": "ad6d2dcf",
   "metadata": {
    "execution": {
     "iopub.execute_input": "2023-08-20T11:07:18.854035Z",
     "iopub.status.busy": "2023-08-20T11:07:18.853301Z",
     "iopub.status.idle": "2023-08-20T11:07:18.861075Z",
     "shell.execute_reply": "2023-08-20T11:07:18.860170Z"
    },
    "papermill": {
     "duration": 0.035088,
     "end_time": "2023-08-20T11:07:18.864151",
     "exception": false,
     "start_time": "2023-08-20T11:07:18.829063",
     "status": "completed"
    },
    "tags": []
   },
   "outputs": [],
   "source": [
    "wine.drop_duplicates(subset=['fixed_acidity', 'volatile_acidity', 'citric_acid', 'residual_sugar',\n",
    "       'chlorides', 'free_sulfur_dioxide', 'total_sulfur_dioxide', 'density',\n",
    "       'ph', 'sulphates', 'alcohol','quality'],keep='first',inplace=True)"
   ]
  },
  {
   "cell_type": "code",
   "execution_count": 12,
   "id": "482ea113",
   "metadata": {
    "execution": {
     "iopub.execute_input": "2023-08-20T11:07:18.912524Z",
     "iopub.status.busy": "2023-08-20T11:07:18.911809Z",
     "iopub.status.idle": "2023-08-20T11:07:18.932334Z",
     "shell.execute_reply": "2023-08-20T11:07:18.931522Z"
    },
    "papermill": {
     "duration": 0.047596,
     "end_time": "2023-08-20T11:07:18.934476",
     "exception": false,
     "start_time": "2023-08-20T11:07:18.886880",
     "status": "completed"
    },
    "tags": []
   },
   "outputs": [
    {
     "data": {
      "text/html": [
       "<div>\n",
       "<style scoped>\n",
       "    .dataframe tbody tr th:only-of-type {\n",
       "        vertical-align: middle;\n",
       "    }\n",
       "\n",
       "    .dataframe tbody tr th {\n",
       "        vertical-align: top;\n",
       "    }\n",
       "\n",
       "    .dataframe thead th {\n",
       "        text-align: right;\n",
       "    }\n",
       "</style>\n",
       "<table border=\"1\" class=\"dataframe\">\n",
       "  <thead>\n",
       "    <tr style=\"text-align: right;\">\n",
       "      <th></th>\n",
       "      <th>fixed_acidity</th>\n",
       "      <th>volatile_acidity</th>\n",
       "      <th>citric_acid</th>\n",
       "      <th>residual_sugar</th>\n",
       "      <th>chlorides</th>\n",
       "      <th>free_sulfur_dioxide</th>\n",
       "      <th>total_sulfur_dioxide</th>\n",
       "      <th>density</th>\n",
       "      <th>ph</th>\n",
       "      <th>sulphates</th>\n",
       "      <th>alcohol</th>\n",
       "      <th>quality</th>\n",
       "    </tr>\n",
       "  </thead>\n",
       "  <tbody>\n",
       "    <tr>\n",
       "      <th>0</th>\n",
       "      <td>7.0</td>\n",
       "      <td>0.27</td>\n",
       "      <td>0.36</td>\n",
       "      <td>20.7</td>\n",
       "      <td>0.045</td>\n",
       "      <td>45.0</td>\n",
       "      <td>170.0</td>\n",
       "      <td>1.0010</td>\n",
       "      <td>3.00</td>\n",
       "      <td>0.45</td>\n",
       "      <td>8.8</td>\n",
       "      <td>6</td>\n",
       "    </tr>\n",
       "    <tr>\n",
       "      <th>1</th>\n",
       "      <td>6.3</td>\n",
       "      <td>0.30</td>\n",
       "      <td>0.34</td>\n",
       "      <td>1.6</td>\n",
       "      <td>0.049</td>\n",
       "      <td>14.0</td>\n",
       "      <td>132.0</td>\n",
       "      <td>0.9940</td>\n",
       "      <td>3.30</td>\n",
       "      <td>0.49</td>\n",
       "      <td>9.5</td>\n",
       "      <td>6</td>\n",
       "    </tr>\n",
       "    <tr>\n",
       "      <th>2</th>\n",
       "      <td>8.1</td>\n",
       "      <td>0.28</td>\n",
       "      <td>0.40</td>\n",
       "      <td>6.9</td>\n",
       "      <td>0.050</td>\n",
       "      <td>30.0</td>\n",
       "      <td>97.0</td>\n",
       "      <td>0.9951</td>\n",
       "      <td>3.26</td>\n",
       "      <td>0.44</td>\n",
       "      <td>10.1</td>\n",
       "      <td>6</td>\n",
       "    </tr>\n",
       "    <tr>\n",
       "      <th>3</th>\n",
       "      <td>7.2</td>\n",
       "      <td>0.23</td>\n",
       "      <td>0.32</td>\n",
       "      <td>8.5</td>\n",
       "      <td>0.058</td>\n",
       "      <td>47.0</td>\n",
       "      <td>186.0</td>\n",
       "      <td>0.9956</td>\n",
       "      <td>3.19</td>\n",
       "      <td>0.40</td>\n",
       "      <td>9.9</td>\n",
       "      <td>6</td>\n",
       "    </tr>\n",
       "    <tr>\n",
       "      <th>6</th>\n",
       "      <td>6.2</td>\n",
       "      <td>0.32</td>\n",
       "      <td>0.16</td>\n",
       "      <td>7.0</td>\n",
       "      <td>0.045</td>\n",
       "      <td>30.0</td>\n",
       "      <td>136.0</td>\n",
       "      <td>0.9949</td>\n",
       "      <td>3.18</td>\n",
       "      <td>0.47</td>\n",
       "      <td>9.6</td>\n",
       "      <td>6</td>\n",
       "    </tr>\n",
       "  </tbody>\n",
       "</table>\n",
       "</div>"
      ],
      "text/plain": [
       "   fixed_acidity  volatile_acidity  citric_acid  residual_sugar  chlorides  \\\n",
       "0            7.0              0.27         0.36            20.7      0.045   \n",
       "1            6.3              0.30         0.34             1.6      0.049   \n",
       "2            8.1              0.28         0.40             6.9      0.050   \n",
       "3            7.2              0.23         0.32             8.5      0.058   \n",
       "6            6.2              0.32         0.16             7.0      0.045   \n",
       "\n",
       "   free_sulfur_dioxide  total_sulfur_dioxide  density    ph  sulphates  \\\n",
       "0                 45.0                 170.0   1.0010  3.00       0.45   \n",
       "1                 14.0                 132.0   0.9940  3.30       0.49   \n",
       "2                 30.0                  97.0   0.9951  3.26       0.44   \n",
       "3                 47.0                 186.0   0.9956  3.19       0.40   \n",
       "6                 30.0                 136.0   0.9949  3.18       0.47   \n",
       "\n",
       "   alcohol  quality  \n",
       "0      8.8        6  \n",
       "1      9.5        6  \n",
       "2     10.1        6  \n",
       "3      9.9        6  \n",
       "6      9.6        6  "
      ]
     },
     "execution_count": 12,
     "metadata": {},
     "output_type": "execute_result"
    }
   ],
   "source": [
    "wine.head()"
   ]
  },
  {
   "cell_type": "code",
   "execution_count": 13,
   "id": "3e41ff12",
   "metadata": {
    "execution": {
     "iopub.execute_input": "2023-08-20T11:07:18.983854Z",
     "iopub.status.busy": "2023-08-20T11:07:18.983094Z",
     "iopub.status.idle": "2023-08-20T11:07:18.989083Z",
     "shell.execute_reply": "2023-08-20T11:07:18.988209Z"
    },
    "papermill": {
     "duration": 0.033872,
     "end_time": "2023-08-20T11:07:18.991323",
     "exception": false,
     "start_time": "2023-08-20T11:07:18.957451",
     "status": "completed"
    },
    "tags": []
   },
   "outputs": [
    {
     "data": {
      "text/plain": [
       "(3961, 12)"
      ]
     },
     "execution_count": 13,
     "metadata": {},
     "output_type": "execute_result"
    }
   ],
   "source": [
    "wine.shape"
   ]
  },
  {
   "cell_type": "code",
   "execution_count": 14,
   "id": "99f2dafc",
   "metadata": {
    "execution": {
     "iopub.execute_input": "2023-08-20T11:07:19.040526Z",
     "iopub.status.busy": "2023-08-20T11:07:19.039810Z",
     "iopub.status.idle": "2023-08-20T11:07:19.046472Z",
     "shell.execute_reply": "2023-08-20T11:07:19.045261Z"
    },
    "papermill": {
     "duration": 0.033894,
     "end_time": "2023-08-20T11:07:19.048796",
     "exception": false,
     "start_time": "2023-08-20T11:07:19.014902",
     "status": "completed"
    },
    "tags": []
   },
   "outputs": [
    {
     "data": {
      "text/plain": [
       "47532"
      ]
     },
     "execution_count": 14,
     "metadata": {},
     "output_type": "execute_result"
    }
   ],
   "source": [
    "wine.size"
   ]
  },
  {
   "cell_type": "code",
   "execution_count": 15,
   "id": "2771cbcd",
   "metadata": {
    "execution": {
     "iopub.execute_input": "2023-08-20T11:07:19.098362Z",
     "iopub.status.busy": "2023-08-20T11:07:19.097911Z",
     "iopub.status.idle": "2023-08-20T11:07:19.120200Z",
     "shell.execute_reply": "2023-08-20T11:07:19.119047Z"
    },
    "papermill": {
     "duration": 0.050353,
     "end_time": "2023-08-20T11:07:19.122867",
     "exception": false,
     "start_time": "2023-08-20T11:07:19.072514",
     "status": "completed"
    },
    "tags": []
   },
   "outputs": [
    {
     "name": "stdout",
     "output_type": "stream",
     "text": [
      "<class 'pandas.core.frame.DataFrame'>\n",
      "Int64Index: 3961 entries, 0 to 4897\n",
      "Data columns (total 12 columns):\n",
      " #   Column                Non-Null Count  Dtype  \n",
      "---  ------                --------------  -----  \n",
      " 0   fixed_acidity         3961 non-null   float64\n",
      " 1   volatile_acidity      3961 non-null   float64\n",
      " 2   citric_acid           3961 non-null   float64\n",
      " 3   residual_sugar        3961 non-null   float64\n",
      " 4   chlorides             3961 non-null   float64\n",
      " 5   free_sulfur_dioxide   3961 non-null   float64\n",
      " 6   total_sulfur_dioxide  3961 non-null   float64\n",
      " 7   density               3961 non-null   float64\n",
      " 8   ph                    3961 non-null   float64\n",
      " 9   sulphates             3961 non-null   float64\n",
      " 10  alcohol               3961 non-null   float64\n",
      " 11  quality               3961 non-null   int64  \n",
      "dtypes: float64(11), int64(1)\n",
      "memory usage: 402.3 KB\n"
     ]
    }
   ],
   "source": [
    "wine.info()"
   ]
  },
  {
   "cell_type": "code",
   "execution_count": 16,
   "id": "cf58cbd1",
   "metadata": {
    "execution": {
     "iopub.execute_input": "2023-08-20T11:07:19.171508Z",
     "iopub.status.busy": "2023-08-20T11:07:19.171120Z",
     "iopub.status.idle": "2023-08-20T11:07:19.226047Z",
     "shell.execute_reply": "2023-08-20T11:07:19.225167Z"
    },
    "papermill": {
     "duration": 0.082115,
     "end_time": "2023-08-20T11:07:19.228274",
     "exception": false,
     "start_time": "2023-08-20T11:07:19.146159",
     "status": "completed"
    },
    "tags": []
   },
   "outputs": [
    {
     "data": {
      "text/html": [
       "<div>\n",
       "<style scoped>\n",
       "    .dataframe tbody tr th:only-of-type {\n",
       "        vertical-align: middle;\n",
       "    }\n",
       "\n",
       "    .dataframe tbody tr th {\n",
       "        vertical-align: top;\n",
       "    }\n",
       "\n",
       "    .dataframe thead th {\n",
       "        text-align: right;\n",
       "    }\n",
       "</style>\n",
       "<table border=\"1\" class=\"dataframe\">\n",
       "  <thead>\n",
       "    <tr style=\"text-align: right;\">\n",
       "      <th></th>\n",
       "      <th>fixed_acidity</th>\n",
       "      <th>volatile_acidity</th>\n",
       "      <th>citric_acid</th>\n",
       "      <th>residual_sugar</th>\n",
       "      <th>chlorides</th>\n",
       "      <th>free_sulfur_dioxide</th>\n",
       "      <th>total_sulfur_dioxide</th>\n",
       "      <th>density</th>\n",
       "      <th>ph</th>\n",
       "      <th>sulphates</th>\n",
       "      <th>alcohol</th>\n",
       "      <th>quality</th>\n",
       "    </tr>\n",
       "  </thead>\n",
       "  <tbody>\n",
       "    <tr>\n",
       "      <th>count</th>\n",
       "      <td>3961.000000</td>\n",
       "      <td>3961.000000</td>\n",
       "      <td>3961.000000</td>\n",
       "      <td>3961.000000</td>\n",
       "      <td>3961.000000</td>\n",
       "      <td>3961.000000</td>\n",
       "      <td>3961.000000</td>\n",
       "      <td>3961.000000</td>\n",
       "      <td>3961.000000</td>\n",
       "      <td>3961.000000</td>\n",
       "      <td>3961.000000</td>\n",
       "      <td>3961.000000</td>\n",
       "    </tr>\n",
       "    <tr>\n",
       "      <th>mean</th>\n",
       "      <td>6.839346</td>\n",
       "      <td>0.280538</td>\n",
       "      <td>0.334332</td>\n",
       "      <td>5.914819</td>\n",
       "      <td>0.045905</td>\n",
       "      <td>34.889169</td>\n",
       "      <td>137.193512</td>\n",
       "      <td>0.993790</td>\n",
       "      <td>3.195458</td>\n",
       "      <td>0.490351</td>\n",
       "      <td>10.589358</td>\n",
       "      <td>5.854835</td>\n",
       "    </tr>\n",
       "    <tr>\n",
       "      <th>std</th>\n",
       "      <td>0.866860</td>\n",
       "      <td>0.103437</td>\n",
       "      <td>0.122446</td>\n",
       "      <td>4.861646</td>\n",
       "      <td>0.023103</td>\n",
       "      <td>17.210021</td>\n",
       "      <td>43.129065</td>\n",
       "      <td>0.002905</td>\n",
       "      <td>0.151546</td>\n",
       "      <td>0.113523</td>\n",
       "      <td>1.217076</td>\n",
       "      <td>0.890683</td>\n",
       "    </tr>\n",
       "    <tr>\n",
       "      <th>min</th>\n",
       "      <td>3.800000</td>\n",
       "      <td>0.080000</td>\n",
       "      <td>0.000000</td>\n",
       "      <td>0.600000</td>\n",
       "      <td>0.009000</td>\n",
       "      <td>2.000000</td>\n",
       "      <td>9.000000</td>\n",
       "      <td>0.987110</td>\n",
       "      <td>2.720000</td>\n",
       "      <td>0.220000</td>\n",
       "      <td>8.000000</td>\n",
       "      <td>3.000000</td>\n",
       "    </tr>\n",
       "    <tr>\n",
       "      <th>25%</th>\n",
       "      <td>6.300000</td>\n",
       "      <td>0.210000</td>\n",
       "      <td>0.270000</td>\n",
       "      <td>1.600000</td>\n",
       "      <td>0.035000</td>\n",
       "      <td>23.000000</td>\n",
       "      <td>106.000000</td>\n",
       "      <td>0.991620</td>\n",
       "      <td>3.090000</td>\n",
       "      <td>0.410000</td>\n",
       "      <td>9.500000</td>\n",
       "      <td>5.000000</td>\n",
       "    </tr>\n",
       "    <tr>\n",
       "      <th>50%</th>\n",
       "      <td>6.800000</td>\n",
       "      <td>0.260000</td>\n",
       "      <td>0.320000</td>\n",
       "      <td>4.700000</td>\n",
       "      <td>0.042000</td>\n",
       "      <td>33.000000</td>\n",
       "      <td>133.000000</td>\n",
       "      <td>0.993500</td>\n",
       "      <td>3.180000</td>\n",
       "      <td>0.480000</td>\n",
       "      <td>10.400000</td>\n",
       "      <td>6.000000</td>\n",
       "    </tr>\n",
       "    <tr>\n",
       "      <th>75%</th>\n",
       "      <td>7.300000</td>\n",
       "      <td>0.330000</td>\n",
       "      <td>0.390000</td>\n",
       "      <td>8.900000</td>\n",
       "      <td>0.050000</td>\n",
       "      <td>45.000000</td>\n",
       "      <td>166.000000</td>\n",
       "      <td>0.995710</td>\n",
       "      <td>3.290000</td>\n",
       "      <td>0.550000</td>\n",
       "      <td>11.400000</td>\n",
       "      <td>6.000000</td>\n",
       "    </tr>\n",
       "    <tr>\n",
       "      <th>max</th>\n",
       "      <td>14.200000</td>\n",
       "      <td>1.100000</td>\n",
       "      <td>1.660000</td>\n",
       "      <td>65.800000</td>\n",
       "      <td>0.346000</td>\n",
       "      <td>289.000000</td>\n",
       "      <td>440.000000</td>\n",
       "      <td>1.038980</td>\n",
       "      <td>3.820000</td>\n",
       "      <td>1.080000</td>\n",
       "      <td>14.200000</td>\n",
       "      <td>9.000000</td>\n",
       "    </tr>\n",
       "  </tbody>\n",
       "</table>\n",
       "</div>"
      ],
      "text/plain": [
       "       fixed_acidity  volatile_acidity  citric_acid  residual_sugar  \\\n",
       "count    3961.000000       3961.000000  3961.000000     3961.000000   \n",
       "mean        6.839346          0.280538     0.334332        5.914819   \n",
       "std         0.866860          0.103437     0.122446        4.861646   \n",
       "min         3.800000          0.080000     0.000000        0.600000   \n",
       "25%         6.300000          0.210000     0.270000        1.600000   \n",
       "50%         6.800000          0.260000     0.320000        4.700000   \n",
       "75%         7.300000          0.330000     0.390000        8.900000   \n",
       "max        14.200000          1.100000     1.660000       65.800000   \n",
       "\n",
       "         chlorides  free_sulfur_dioxide  total_sulfur_dioxide      density  \\\n",
       "count  3961.000000          3961.000000           3961.000000  3961.000000   \n",
       "mean      0.045905            34.889169            137.193512     0.993790   \n",
       "std       0.023103            17.210021             43.129065     0.002905   \n",
       "min       0.009000             2.000000              9.000000     0.987110   \n",
       "25%       0.035000            23.000000            106.000000     0.991620   \n",
       "50%       0.042000            33.000000            133.000000     0.993500   \n",
       "75%       0.050000            45.000000            166.000000     0.995710   \n",
       "max       0.346000           289.000000            440.000000     1.038980   \n",
       "\n",
       "                ph    sulphates      alcohol      quality  \n",
       "count  3961.000000  3961.000000  3961.000000  3961.000000  \n",
       "mean      3.195458     0.490351    10.589358     5.854835  \n",
       "std       0.151546     0.113523     1.217076     0.890683  \n",
       "min       2.720000     0.220000     8.000000     3.000000  \n",
       "25%       3.090000     0.410000     9.500000     5.000000  \n",
       "50%       3.180000     0.480000    10.400000     6.000000  \n",
       "75%       3.290000     0.550000    11.400000     6.000000  \n",
       "max       3.820000     1.080000    14.200000     9.000000  "
      ]
     },
     "execution_count": 16,
     "metadata": {},
     "output_type": "execute_result"
    }
   ],
   "source": [
    "wine.describe()"
   ]
  },
  {
   "cell_type": "code",
   "execution_count": 17,
   "id": "605911fc",
   "metadata": {
    "execution": {
     "iopub.execute_input": "2023-08-20T11:07:19.278466Z",
     "iopub.status.busy": "2023-08-20T11:07:19.277250Z",
     "iopub.status.idle": "2023-08-20T11:07:19.554569Z",
     "shell.execute_reply": "2023-08-20T11:07:19.553380Z"
    },
    "papermill": {
     "duration": 0.30534,
     "end_time": "2023-08-20T11:07:19.557360",
     "exception": false,
     "start_time": "2023-08-20T11:07:19.252020",
     "status": "completed"
    },
    "tags": []
   },
   "outputs": [
    {
     "data": {
      "text/plain": [
       "<Axes: xlabel='quality', ylabel='count'>"
      ]
     },
     "execution_count": 17,
     "metadata": {},
     "output_type": "execute_result"
    },
    {
     "data": {
      "image/png": "[encoded data removed]",
      "text/plain": [
       "<Figure size 1500x500 with 1 Axes>"
      ]
     },
     "metadata": {},
     "output_type": "display_data"
    }
   ],
   "source": [
    "plt.figure(figsize=(15,5))\n",
    "sns.countplot(data=wine,x='quality')"
   ]
  },
  {
   "cell_type": "code",
   "execution_count": 18,
   "id": "04e7d004",
   "metadata": {
    "execution": {
     "iopub.execute_input": "2023-08-20T11:07:19.608572Z",
     "iopub.status.busy": "2023-08-20T11:07:19.607701Z",
     "iopub.status.idle": "2023-08-20T11:07:19.618953Z",
     "shell.execute_reply": "2023-08-20T11:07:19.617718Z"
    },
    "papermill": {
     "duration": 0.039801,
     "end_time": "2023-08-20T11:07:19.621566",
     "exception": false,
     "start_time": "2023-08-20T11:07:19.581765",
     "status": "completed"
    },
    "tags": []
   },
   "outputs": [
    {
     "data": {
      "text/html": [
       "<div>\n",
       "<style scoped>\n",
       "    .dataframe tbody tr th:only-of-type {\n",
       "        vertical-align: middle;\n",
       "    }\n",
       "\n",
       "    .dataframe tbody tr th {\n",
       "        vertical-align: top;\n",
       "    }\n",
       "\n",
       "    .dataframe thead th {\n",
       "        text-align: right;\n",
       "    }\n",
       "</style>\n",
       "<table border=\"1\" class=\"dataframe\">\n",
       "  <thead>\n",
       "    <tr style=\"text-align: right;\">\n",
       "      <th></th>\n",
       "      <th>quality</th>\n",
       "    </tr>\n",
       "  </thead>\n",
       "  <tbody>\n",
       "    <tr>\n",
       "      <th>6</th>\n",
       "      <td>1788</td>\n",
       "    </tr>\n",
       "    <tr>\n",
       "      <th>5</th>\n",
       "      <td>1175</td>\n",
       "    </tr>\n",
       "    <tr>\n",
       "      <th>7</th>\n",
       "      <td>689</td>\n",
       "    </tr>\n",
       "    <tr>\n",
       "      <th>4</th>\n",
       "      <td>153</td>\n",
       "    </tr>\n",
       "    <tr>\n",
       "      <th>8</th>\n",
       "      <td>131</td>\n",
       "    </tr>\n",
       "    <tr>\n",
       "      <th>3</th>\n",
       "      <td>20</td>\n",
       "    </tr>\n",
       "    <tr>\n",
       "      <th>9</th>\n",
       "      <td>5</td>\n",
       "    </tr>\n",
       "  </tbody>\n",
       "</table>\n",
       "</div>"
      ],
      "text/plain": [
       "   quality\n",
       "6     1788\n",
       "5     1175\n",
       "7      689\n",
       "4      153\n",
       "8      131\n",
       "3       20\n",
       "9        5"
      ]
     },
     "execution_count": 18,
     "metadata": {},
     "output_type": "execute_result"
    }
   ],
   "source": [
    "wine['quality'].value_counts().to_frame()"
   ]
  },
  {
   "cell_type": "code",
   "execution_count": 19,
   "id": "801230e2",
   "metadata": {
    "execution": {
     "iopub.execute_input": "2023-08-20T11:07:19.672646Z",
     "iopub.status.busy": "2023-08-20T11:07:19.671841Z",
     "iopub.status.idle": "2023-08-20T11:07:19.916252Z",
     "shell.execute_reply": "2023-08-20T11:07:19.915030Z"
    },
    "papermill": {
     "duration": 0.272775,
     "end_time": "2023-08-20T11:07:19.918959",
     "exception": false,
     "start_time": "2023-08-20T11:07:19.646184",
     "status": "completed"
    },
    "tags": []
   },
   "outputs": [
    {
     "data": {
      "text/plain": [
       "<Axes: xlabel='quality', ylabel='count'>"
      ]
     },
     "execution_count": 19,
     "metadata": {},
     "output_type": "execute_result"
    },
    {
     "data": {
      "image/png": "[encoded data removed]",
      "text/plain": [
       "<Figure size 1500x500 with 1 Axes>"
      ]
     },
     "metadata": {},
     "output_type": "display_data"
    }
   ],
   "source": [
    "plt.figure(figsize=(15,5))\n",
    "sns.countplot(data=wine,x='quality')"
   ]
  },
  {
   "cell_type": "code",
   "execution_count": 20,
   "id": "cc6fab9a",
   "metadata": {
    "execution": {
     "iopub.execute_input": "2023-08-20T11:07:19.970861Z",
     "iopub.status.busy": "2023-08-20T11:07:19.970410Z",
     "iopub.status.idle": "2023-08-20T11:07:19.997104Z",
     "shell.execute_reply": "2023-08-20T11:07:19.995914Z"
    },
    "papermill": {
     "duration": 0.055663,
     "end_time": "2023-08-20T11:07:19.999574",
     "exception": false,
     "start_time": "2023-08-20T11:07:19.943911",
     "status": "completed"
    },
    "tags": []
   },
   "outputs": [
    {
     "data": {
      "text/html": [
       "<div>\n",
       "<style scoped>\n",
       "    .dataframe tbody tr th:only-of-type {\n",
       "        vertical-align: middle;\n",
       "    }\n",
       "\n",
       "    .dataframe tbody tr th {\n",
       "        vertical-align: top;\n",
       "    }\n",
       "\n",
       "    .dataframe thead th {\n",
       "        text-align: right;\n",
       "    }\n",
       "</style>\n",
       "<table border=\"1\" class=\"dataframe\">\n",
       "  <thead>\n",
       "    <tr style=\"text-align: right;\">\n",
       "      <th></th>\n",
       "      <th>fixed_acidity</th>\n",
       "      <th>volatile_acidity</th>\n",
       "      <th>citric_acid</th>\n",
       "      <th>residual_sugar</th>\n",
       "      <th>chlorides</th>\n",
       "      <th>free_sulfur_dioxide</th>\n",
       "      <th>total_sulfur_dioxide</th>\n",
       "      <th>density</th>\n",
       "      <th>ph</th>\n",
       "      <th>sulphates</th>\n",
       "      <th>alcohol</th>\n",
       "      <th>quality</th>\n",
       "    </tr>\n",
       "  </thead>\n",
       "  <tbody>\n",
       "    <tr>\n",
       "      <th>fixed_acidity</th>\n",
       "      <td>1.000000</td>\n",
       "      <td>-0.019214</td>\n",
       "      <td>0.298959</td>\n",
       "      <td>0.083620</td>\n",
       "      <td>0.024036</td>\n",
       "      <td>-0.058396</td>\n",
       "      <td>0.082425</td>\n",
       "      <td>0.266091</td>\n",
       "      <td>-0.431274</td>\n",
       "      <td>-0.017453</td>\n",
       "      <td>-0.110788</td>\n",
       "      <td>-0.124636</td>\n",
       "    </tr>\n",
       "    <tr>\n",
       "      <th>volatile_acidity</th>\n",
       "      <td>-0.019214</td>\n",
       "      <td>1.000000</td>\n",
       "      <td>-0.163228</td>\n",
       "      <td>0.098340</td>\n",
       "      <td>0.086287</td>\n",
       "      <td>-0.102471</td>\n",
       "      <td>0.102315</td>\n",
       "      <td>0.060603</td>\n",
       "      <td>-0.046954</td>\n",
       "      <td>-0.021150</td>\n",
       "      <td>0.046815</td>\n",
       "      <td>-0.190678</td>\n",
       "    </tr>\n",
       "    <tr>\n",
       "      <th>citric_acid</th>\n",
       "      <td>0.298959</td>\n",
       "      <td>-0.163228</td>\n",
       "      <td>1.000000</td>\n",
       "      <td>0.106269</td>\n",
       "      <td>0.132590</td>\n",
       "      <td>0.091681</td>\n",
       "      <td>0.122845</td>\n",
       "      <td>0.160076</td>\n",
       "      <td>-0.183015</td>\n",
       "      <td>0.049442</td>\n",
       "      <td>-0.076514</td>\n",
       "      <td>0.007065</td>\n",
       "    </tr>\n",
       "    <tr>\n",
       "      <th>residual_sugar</th>\n",
       "      <td>0.083620</td>\n",
       "      <td>0.098340</td>\n",
       "      <td>0.106269</td>\n",
       "      <td>1.000000</td>\n",
       "      <td>0.076091</td>\n",
       "      <td>0.306835</td>\n",
       "      <td>0.409583</td>\n",
       "      <td>0.820498</td>\n",
       "      <td>-0.165997</td>\n",
       "      <td>-0.020503</td>\n",
       "      <td>-0.398167</td>\n",
       "      <td>-0.117339</td>\n",
       "    </tr>\n",
       "    <tr>\n",
       "      <th>chlorides</th>\n",
       "      <td>0.024036</td>\n",
       "      <td>0.086287</td>\n",
       "      <td>0.132590</td>\n",
       "      <td>0.076091</td>\n",
       "      <td>1.000000</td>\n",
       "      <td>0.101272</td>\n",
       "      <td>0.191145</td>\n",
       "      <td>0.253088</td>\n",
       "      <td>-0.090573</td>\n",
       "      <td>0.017871</td>\n",
       "      <td>-0.356928</td>\n",
       "      <td>-0.217739</td>\n",
       "    </tr>\n",
       "    <tr>\n",
       "      <th>free_sulfur_dioxide</th>\n",
       "      <td>-0.058396</td>\n",
       "      <td>-0.102471</td>\n",
       "      <td>0.091681</td>\n",
       "      <td>0.306835</td>\n",
       "      <td>0.101272</td>\n",
       "      <td>1.000000</td>\n",
       "      <td>0.619437</td>\n",
       "      <td>0.294638</td>\n",
       "      <td>-0.007750</td>\n",
       "      <td>0.037932</td>\n",
       "      <td>-0.251768</td>\n",
       "      <td>0.010507</td>\n",
       "    </tr>\n",
       "    <tr>\n",
       "      <th>total_sulfur_dioxide</th>\n",
       "      <td>0.082425</td>\n",
       "      <td>0.102315</td>\n",
       "      <td>0.122845</td>\n",
       "      <td>0.409583</td>\n",
       "      <td>0.191145</td>\n",
       "      <td>0.619437</td>\n",
       "      <td>1.000000</td>\n",
       "      <td>0.536868</td>\n",
       "      <td>0.008239</td>\n",
       "      <td>0.136544</td>\n",
       "      <td>-0.446643</td>\n",
       "      <td>-0.183356</td>\n",
       "    </tr>\n",
       "    <tr>\n",
       "      <th>density</th>\n",
       "      <td>0.266091</td>\n",
       "      <td>0.060603</td>\n",
       "      <td>0.160076</td>\n",
       "      <td>0.820498</td>\n",
       "      <td>0.253088</td>\n",
       "      <td>0.294638</td>\n",
       "      <td>0.536868</td>\n",
       "      <td>1.000000</td>\n",
       "      <td>-0.063734</td>\n",
       "      <td>0.082048</td>\n",
       "      <td>-0.760162</td>\n",
       "      <td>-0.337805</td>\n",
       "    </tr>\n",
       "    <tr>\n",
       "      <th>ph</th>\n",
       "      <td>-0.431274</td>\n",
       "      <td>-0.046954</td>\n",
       "      <td>-0.183015</td>\n",
       "      <td>-0.165997</td>\n",
       "      <td>-0.090573</td>\n",
       "      <td>-0.007750</td>\n",
       "      <td>0.008239</td>\n",
       "      <td>-0.063734</td>\n",
       "      <td>1.000000</td>\n",
       "      <td>0.142353</td>\n",
       "      <td>0.093095</td>\n",
       "      <td>0.123829</td>\n",
       "    </tr>\n",
       "    <tr>\n",
       "      <th>sulphates</th>\n",
       "      <td>-0.017453</td>\n",
       "      <td>-0.021150</td>\n",
       "      <td>0.049442</td>\n",
       "      <td>-0.020503</td>\n",
       "      <td>0.017871</td>\n",
       "      <td>0.037932</td>\n",
       "      <td>0.136544</td>\n",
       "      <td>0.082048</td>\n",
       "      <td>0.142353</td>\n",
       "      <td>1.000000</td>\n",
       "      <td>-0.022850</td>\n",
       "      <td>0.053200</td>\n",
       "    </tr>\n",
       "    <tr>\n",
       "      <th>alcohol</th>\n",
       "      <td>-0.110788</td>\n",
       "      <td>0.046815</td>\n",
       "      <td>-0.076514</td>\n",
       "      <td>-0.398167</td>\n",
       "      <td>-0.356928</td>\n",
       "      <td>-0.251768</td>\n",
       "      <td>-0.446643</td>\n",
       "      <td>-0.760162</td>\n",
       "      <td>0.093095</td>\n",
       "      <td>-0.022850</td>\n",
       "      <td>1.000000</td>\n",
       "      <td>0.462869</td>\n",
       "    </tr>\n",
       "    <tr>\n",
       "      <th>quality</th>\n",
       "      <td>-0.124636</td>\n",
       "      <td>-0.190678</td>\n",
       "      <td>0.007065</td>\n",
       "      <td>-0.117339</td>\n",
       "      <td>-0.217739</td>\n",
       "      <td>0.010507</td>\n",
       "      <td>-0.183356</td>\n",
       "      <td>-0.337805</td>\n",
       "      <td>0.123829</td>\n",
       "      <td>0.053200</td>\n",
       "      <td>0.462869</td>\n",
       "      <td>1.000000</td>\n",
       "    </tr>\n",
       "  </tbody>\n",
       "</table>\n",
       "</div>"
      ],
      "text/plain": [
       "                      fixed_acidity  volatile_acidity  citric_acid  \\\n",
       "fixed_acidity              1.000000         -0.019214     0.298959   \n",
       "volatile_acidity          -0.019214          1.000000    -0.163228   \n",
       "citric_acid                0.298959         -0.163228     1.000000   \n",
       "residual_sugar             0.083620          0.098340     0.106269   \n",
       "chlorides                  0.024036          0.086287     0.132590   \n",
       "free_sulfur_dioxide       -0.058396         -0.102471     0.091681   \n",
       "total_sulfur_dioxide       0.082425          0.102315     0.122845   \n",
       "density                    0.266091          0.060603     0.160076   \n",
       "ph                        -0.431274         -0.046954    -0.183015   \n",
       "sulphates                 -0.017453         -0.021150     0.049442   \n",
       "alcohol                   -0.110788          0.046815    -0.076514   \n",
       "quality                   -0.124636         -0.190678     0.007065   \n",
       "\n",
       "                      residual_sugar  chlorides  free_sulfur_dioxide  \\\n",
       "fixed_acidity               0.083620   0.024036            -0.058396   \n",
       "volatile_acidity            0.098340   0.086287            -0.102471   \n",
       "citric_acid                 0.106269   0.132590             0.091681   \n",
       "residual_sugar              1.000000   0.076091             0.306835   \n",
       "chlorides                   0.076091   1.000000             0.101272   \n",
       "free_sulfur_dioxide         0.306835   0.101272             1.000000   \n",
       "total_sulfur_dioxide        0.409583   0.191145             0.619437   \n",
       "density                     0.820498   0.253088             0.294638   \n",
       "ph                         -0.165997  -0.090573            -0.007750   \n",
       "sulphates                  -0.020503   0.017871             0.037932   \n",
       "alcohol                    -0.398167  -0.356928            -0.251768   \n",
       "quality                    -0.117339  -0.217739             0.010507   \n",
       "\n",
       "                      total_sulfur_dioxide   density        ph  sulphates  \\\n",
       "fixed_acidity                     0.082425  0.266091 -0.431274  -0.017453   \n",
       "volatile_acidity                  0.102315  0.060603 -0.046954  -0.021150   \n",
       "citric_acid                       0.122845  0.160076 -0.183015   0.049442   \n",
       "residual_sugar                    0.409583  0.820498 -0.165997  -0.020503   \n",
       "chlorides                         0.191145  0.253088 -0.090573   0.017871   \n",
       "free_sulfur_dioxide               0.619437  0.294638 -0.007750   0.037932   \n",
       "total_sulfur_dioxide              1.000000  0.536868  0.008239   0.136544   \n",
       "density                           0.536868  1.000000 -0.063734   0.082048   \n",
       "ph                                0.008239 -0.063734  1.000000   0.142353   \n",
       "sulphates                         0.136544  0.082048  0.142353   1.000000   \n",
       "alcohol                          -0.446643 -0.760162  0.093095  -0.022850   \n",
       "quality                          -0.183356 -0.337805  0.123829   0.053200   \n",
       "\n",
       "                       alcohol   quality  \n",
       "fixed_acidity        -0.110788 -0.124636  \n",
       "volatile_acidity      0.046815 -0.190678  \n",
       "citric_acid          -0.076514  0.007065  \n",
       "residual_sugar       -0.398167 -0.117339  \n",
       "chlorides            -0.356928 -0.217739  \n",
       "free_sulfur_dioxide  -0.251768  0.010507  \n",
       "total_sulfur_dioxide -0.446643 -0.183356  \n",
       "density              -0.760162 -0.337805  \n",
       "ph                    0.093095  0.123829  \n",
       "sulphates            -0.022850  0.053200  \n",
       "alcohol               1.000000  0.462869  \n",
       "quality               0.462869  1.000000  "
      ]
     },
     "execution_count": 20,
     "metadata": {},
     "output_type": "execute_result"
    }
   ],
   "source": [
    "wine.corr()"
   ]
  },
  {
   "cell_type": "code",
   "execution_count": 21,
   "id": "662a0dc5",
   "metadata": {
    "execution": {
     "iopub.execute_input": "2023-08-20T11:07:20.053311Z",
     "iopub.status.busy": "2023-08-20T11:07:20.052861Z",
     "iopub.status.idle": "2023-08-20T11:07:21.025899Z",
     "shell.execute_reply": "2023-08-20T11:07:21.024725Z"
    },
    "papermill": {
     "duration": 1.004129,
     "end_time": "2023-08-20T11:07:21.029756",
     "exception": false,
     "start_time": "2023-08-20T11:07:20.025627",
     "status": "completed"
    },
    "tags": []
   },
   "outputs": [
    {
     "data": {
      "text/plain": [
       "<Axes: title={'center': 'correlation b/w features'}>"
      ]
     },
     "execution_count": 21,
     "metadata": {},
     "output_type": "execute_result"
    },
    {
     "data": {
      "image/png": "[encoded data removed]",
      "text/plain": [
       "<Figure size 1500x500 with 2 Axes>"
      ]
     },
     "metadata": {},
     "output_type": "display_data"
    }
   ],
   "source": [
    "plt.figure(figsize=(15,5))\n",
    "plt.title('correlation b/w features')\n",
    "sns.heatmap(wine.corr(),annot=True)"
   ]
  },
  {
   "cell_type": "code",
   "execution_count": 22,
   "id": "a76b93da",
   "metadata": {
    "execution": {
     "iopub.execute_input": "2023-08-20T11:07:21.089988Z",
     "iopub.status.busy": "2023-08-20T11:07:21.089554Z",
     "iopub.status.idle": "2023-08-20T11:07:21.096853Z",
     "shell.execute_reply": "2023-08-20T11:07:21.095679Z"
    },
    "papermill": {
     "duration": 0.040763,
     "end_time": "2023-08-20T11:07:21.099494",
     "exception": false,
     "start_time": "2023-08-20T11:07:21.058731",
     "status": "completed"
    },
    "tags": []
   },
   "outputs": [],
   "source": [
    "wine_quality_corr=wine.corr()['quality'].to_frame()"
   ]
  },
  {
   "cell_type": "code",
   "execution_count": 23,
   "id": "2753827f",
   "metadata": {
    "execution": {
     "iopub.execute_input": "2023-08-20T11:07:21.158603Z",
     "iopub.status.busy": "2023-08-20T11:07:21.158207Z",
     "iopub.status.idle": "2023-08-20T11:07:21.552533Z",
     "shell.execute_reply": "2023-08-20T11:07:21.551292Z"
    },
    "papermill": {
     "duration": 0.42704,
     "end_time": "2023-08-20T11:07:21.555322",
     "exception": false,
     "start_time": "2023-08-20T11:07:21.128282",
     "status": "completed"
    },
    "tags": []
   },
   "outputs": [
    {
     "data": {
      "text/plain": [
       "<Axes: title={'center': 'correlation of target feature with predictor features'}, xlabel='quality'>"
      ]
     },
     "execution_count": 23,
     "metadata": {},
     "output_type": "execute_result"
    },
    {
     "data": {
      "image/png": "[encoded data removed]",
      "text/plain": [
       "<Figure size 1500x500 with 1 Axes>"
      ]
     },
     "metadata": {},
     "output_type": "display_data"
    }
   ],
   "source": [
    "plt.figure(figsize=(15,5))\n",
    "plt.title('correlation of target feature with predictor features')\n",
    "sns.barplot(data=wine_quality_corr,y=wine_quality_corr.index,x='quality')"
   ]
  },
  {
   "cell_type": "code",
   "execution_count": 24,
   "id": "d6ca6507",
   "metadata": {
    "execution": {
     "iopub.execute_input": "2023-08-20T11:07:21.617770Z",
     "iopub.status.busy": "2023-08-20T11:07:21.617386Z",
     "iopub.status.idle": "2023-08-20T11:07:21.623496Z",
     "shell.execute_reply": "2023-08-20T11:07:21.622324Z"
    },
    "papermill": {
     "duration": 0.040657,
     "end_time": "2023-08-20T11:07:21.625981",
     "exception": false,
     "start_time": "2023-08-20T11:07:21.585324",
     "status": "completed"
    },
    "tags": []
   },
   "outputs": [],
   "source": [
    "y=wine['quality']\n",
    "x=wine.drop(['quality'],axis=1)"
   ]
  },
  {
   "cell_type": "code",
   "execution_count": 25,
   "id": "da9a24d9",
   "metadata": {
    "execution": {
     "iopub.execute_input": "2023-08-20T11:07:21.686073Z",
     "iopub.status.busy": "2023-08-20T11:07:21.685625Z",
     "iopub.status.idle": "2023-08-20T11:07:21.822480Z",
     "shell.execute_reply": "2023-08-20T11:07:21.821360Z"
    },
    "papermill": {
     "duration": 0.170389,
     "end_time": "2023-08-20T11:07:21.825286",
     "exception": false,
     "start_time": "2023-08-20T11:07:21.654897",
     "status": "completed"
    },
    "tags": []
   },
   "outputs": [],
   "source": [
    "from sklearn.model_selection import train_test_split"
   ]
  },
  {
   "cell_type": "code",
   "execution_count": 26,
   "id": "bfadbadb",
   "metadata": {
    "execution": {
     "iopub.execute_input": "2023-08-20T11:07:21.885470Z",
     "iopub.status.busy": "2023-08-20T11:07:21.885037Z",
     "iopub.status.idle": "2023-08-20T11:07:21.893326Z",
     "shell.execute_reply": "2023-08-20T11:07:21.891929Z"
    },
    "papermill": {
     "duration": 0.041605,
     "end_time": "2023-08-20T11:07:21.895864",
     "exception": false,
     "start_time": "2023-08-20T11:07:21.854259",
     "status": "completed"
    },
    "tags": []
   },
   "outputs": [],
   "source": [
    "x_train,x_test,y_train,y_test=train_test_split(x,y,test_size=0.3,random_state=42)"
   ]
  },
  {
   "cell_type": "code",
   "execution_count": 27,
   "id": "ac4e5291",
   "metadata": {
    "execution": {
     "iopub.execute_input": "2023-08-20T11:07:21.955521Z",
     "iopub.status.busy": "2023-08-20T11:07:21.954778Z",
     "iopub.status.idle": "2023-08-20T11:07:21.962215Z",
     "shell.execute_reply": "2023-08-20T11:07:21.961329Z"
    },
    "papermill": {
     "duration": 0.03992,
     "end_time": "2023-08-20T11:07:21.964557",
     "exception": false,
     "start_time": "2023-08-20T11:07:21.924637",
     "status": "completed"
    },
    "tags": []
   },
   "outputs": [
    {
     "data": {
      "text/plain": [
       "((2772, 11), (1189, 11), (2772,), (1189,))"
      ]
     },
     "execution_count": 27,
     "metadata": {},
     "output_type": "execute_result"
    }
   ],
   "source": [
    "x_train.shape,x_test.shape,y_train.shape,y_test.shape"
   ]
  },
  {
   "cell_type": "code",
   "execution_count": 28,
   "id": "c76a6906",
   "metadata": {},
   "outputs": [],
   "source": [
    "def evaluate(y,pred):\n",
    "    rmse =np.sqrt(mean_squared_error(y,pred))\n",
    "    mae = mean_absolute_error(y,pred)\n",
    "    r2 = r2_score(y,pred)\n",
    "    \n",
    "    return rmse,mae,r2"
   ]
  },
  {
   "cell_type": "code",
   "execution_count": 29,
   "id": "4a9a62a9",
   "metadata": {},
   "outputs": [],
   "source": [
    "def get_metrics(y_true, y_pred, y_pred_prob):\n",
    "    from sklearn.metrics import accuracy_score,precision_score,recall_score,log_loss\n",
    "    acc = accuracy_score(y_true, y_pred)\n",
    "    prec = precision_score(y_true, y_pred)\n",
    "    recall = recall_score(y_true, y_pred)\n",
    "    entropy = log_loss(y_true, y_pred_prob)\n",
    "    return {'accuracy': round(acc, 2), 'precision': round(prec, 2), 'recall': round(recall, 2), 'entropy': round(entropy, 2)}"
   ]
  },
  {
   "cell_type": "markdown",
   "id": "86bc9fbd",
   "metadata": {},
   "source": [
    "# Model NO- 1- Logistic Regression"
   ]
  },
  {
   "cell_type": "code",
   "execution_count": 30,
   "id": "a32f1ab6",
   "metadata": {
    "execution": {
     "iopub.execute_input": "2023-08-20T11:07:22.024692Z",
     "iopub.status.busy": "2023-08-20T11:07:22.024320Z",
     "iopub.status.idle": "2023-08-20T11:07:22.123271Z",
     "shell.execute_reply": "2023-08-20T11:07:22.122166Z"
    },
    "papermill": {
     "duration": 0.132408,
     "end_time": "2023-08-20T11:07:22.126107",
     "exception": false,
     "start_time": "2023-08-20T11:07:21.993699",
     "status": "completed"
    },
    "tags": []
   },
   "outputs": [],
   "source": [
    "from sklearn.linear_model import LogisticRegression"
   ]
  },
  {
   "cell_type": "code",
   "execution_count": 31,
   "id": "8ea9fe16",
   "metadata": {
    "execution": {
     "iopub.execute_input": "2023-08-20T11:07:22.187579Z",
     "iopub.status.busy": "2023-08-20T11:07:22.186509Z",
     "iopub.status.idle": "2023-08-20T11:07:22.191609Z",
     "shell.execute_reply": "2023-08-20T11:07:22.190774Z"
    },
    "papermill": {
     "duration": 0.037975,
     "end_time": "2023-08-20T11:07:22.193865",
     "exception": false,
     "start_time": "2023-08-20T11:07:22.155890",
     "status": "completed"
    },
    "tags": []
   },
   "outputs": [],
   "source": [
    "lr=LogisticRegression(max_iter=6000)"
   ]
  },
  {
   "cell_type": "code",
   "execution_count": 32,
   "id": "1fb3f0a1",
   "metadata": {
    "execution": {
     "iopub.execute_input": "2023-08-20T11:07:22.257585Z",
     "iopub.status.busy": "2023-08-20T11:07:22.256314Z",
     "iopub.status.idle": "2023-08-20T11:07:24.947668Z",
     "shell.execute_reply": "2023-08-20T11:07:24.946428Z"
    },
    "papermill": {
     "duration": 2.724342,
     "end_time": "2023-08-20T11:07:24.950374",
     "exception": false,
     "start_time": "2023-08-20T11:07:22.226032",
     "status": "completed"
    },
    "tags": []
   },
   "outputs": [
    {
     "name": "stderr",
     "output_type": "stream",
     "text": [
      "C:\\Users\\naveen\\anaconda3\\Lib\\site-packages\\sklearn\\linear_model\\_logistic.py:458: ConvergenceWarning: lbfgs failed to converge (status=1):\n",
      "STOP: TOTAL NO. of ITERATIONS REACHED LIMIT.\n",
      "\n",
      "Increase the number of iterations (max_iter) or scale the data as shown in:\n",
      "    https://scikit-learn.org/stable/modules/preprocessing.html\n",
      "Please also refer to the documentation for alternative solver options:\n",
      "    https://scikit-learn.org/stable/modules/linear_model.html#logistic-regression\n",
      "  n_iter_i = _check_optimize_result(\n"
     ]
    },
    {
     "data": {
      "text/html": [
       "<style>#sk-container-id-1 {color: black;background-color: white;}#sk-container-id-1 pre{padding: 0;}#sk-container-id-1 div.sk-toggleable {background-color: white;}#sk-container-id-1 label.sk-toggleable__label {cursor: pointer;display: block;width: 100%;margin-bottom: 0;padding: 0.3em;box-sizing: border-box;text-align: center;}#sk-container-id-1 label.sk-toggleable__label-arrow:before {content: \"▸\";float: left;margin-right: 0.25em;color: #696969;}#sk-container-id-1 label.sk-toggleable__label-arrow:hover:before {color: black;}#sk-container-id-1 div.sk-estimator:hover label.sk-toggleable__label-arrow:before {color: black;}#sk-container-id-1 div.sk-toggleable__content {max-height: 0;max-width: 0;overflow: hidden;text-align: left;background-color: #f0f8ff;}#sk-container-id-1 div.sk-toggleable__content pre {margin: 0.2em;color: black;border-radius: 0.25em;background-color: #f0f8ff;}#sk-container-id-1 input.sk-toggleable__control:checked~div.sk-toggleable__content {max-height: 200px;max-width: 100%;overflow: auto;}#sk-container-id-1 input.sk-toggleable__control:checked~label.sk-toggleable__label-arrow:before {content: \"▾\";}#sk-container-id-1 div.sk-estimator input.sk-toggleable__control:checked~label.sk-toggleable__label {background-color: #d4ebff;}#sk-container-id-1 div.sk-label input.sk-toggleable__control:checked~label.sk-toggleable__label {background-color: #d4ebff;}#sk-container-id-1 input.sk-hidden--visually {border: 0;clip: rect(1px 1px 1px 1px);clip: rect(1px, 1px, 1px, 1px);height: 1px;margin: -1px;overflow: hidden;padding: 0;position: absolute;width: 1px;}#sk-container-id-1 div.sk-estimator {font-family: monospace;background-color: #f0f8ff;border: 1px dotted black;border-radius: 0.25em;box-sizing: border-box;margin-bottom: 0.5em;}#sk-container-id-1 div.sk-estimator:hover {background-color: #d4ebff;}#sk-container-id-1 div.sk-parallel-item::after {content: \"\";width: 100%;border-bottom: 1px solid gray;flex-grow: 1;}#sk-container-id-1 div.sk-label:hover label.sk-toggleable__label {background-color: #d4ebff;}#sk-container-id-1 div.sk-serial::before {content: \"\";position: absolute;border-left: 1px solid gray;box-sizing: border-box;top: 0;bottom: 0;left: 50%;z-index: 0;}#sk-container-id-1 div.sk-serial {display: flex;flex-direction: column;align-items: center;background-color: white;padding-right: 0.2em;padding-left: 0.2em;position: relative;}#sk-container-id-1 div.sk-item {position: relative;z-index: 1;}#sk-container-id-1 div.sk-parallel {display: flex;align-items: stretch;justify-content: center;background-color: white;position: relative;}#sk-container-id-1 div.sk-item::before, #sk-container-id-1 div.sk-parallel-item::before {content: \"\";position: absolute;border-left: 1px solid gray;box-sizing: border-box;top: 0;bottom: 0;left: 50%;z-index: -1;}#sk-container-id-1 div.sk-parallel-item {display: flex;flex-direction: column;z-index: 1;position: relative;background-color: white;}#sk-container-id-1 div.sk-parallel-item:first-child::after {align-self: flex-end;width: 50%;}#sk-container-id-1 div.sk-parallel-item:last-child::after {align-self: flex-start;width: 50%;}#sk-container-id-1 div.sk-parallel-item:only-child::after {width: 0;}#sk-container-id-1 div.sk-dashed-wrapped {border: 1px dashed gray;margin: 0 0.4em 0.5em 0.4em;box-sizing: border-box;padding-bottom: 0.4em;background-color: white;}#sk-container-id-1 div.sk-label label {font-family: monospace;font-weight: bold;display: inline-block;line-height: 1.2em;}#sk-container-id-1 div.sk-label-container {text-align: center;}#sk-container-id-1 div.sk-container {/* jupyter's `normalize.less` sets `[hidden] { display: none; }` but bootstrap.min.css set `[hidden] { display: none !important; }` so we also need the `!important` here to be able to override the default hidden behavior on the sphinx rendered scikit-learn.org. See: https://github.com/scikit-learn/scikit-learn/issues/21755 */display: inline-block !important;position: relative;}#sk-container-id-1 div.sk-text-repr-fallback {display: none;}</style><div id=\"sk-container-id-1\" class=\"sk-top-container\"><div class=\"sk-text-repr-fallback\"><pre>LogisticRegression(max_iter=6000)</pre><b>In a Jupyter environment, please rerun this cell to show the HTML representation or trust the notebook. <br />On GitHub, the HTML representation is unable to render, please try loading this page with nbviewer.org.</b></div><div class=\"sk-container\" hidden><div class=\"sk-item\"><div class=\"sk-estimator sk-toggleable\"><input class=\"sk-toggleable__control sk-hidden--visually\" id=\"sk-estimator-id-1\" type=\"checkbox\" checked><label for=\"sk-estimator-id-1\" class=\"sk-toggleable__label sk-toggleable__label-arrow\">LogisticRegression</label><div class=\"sk-toggleable__content\"><pre>LogisticRegression(max_iter=6000)</pre></div></div></div></div></div>"
      ],
      "text/plain": [
       "LogisticRegression(max_iter=6000)"
      ]
     },
     "execution_count": 32,
     "metadata": {},
     "output_type": "execute_result"
    }
   ],
   "source": [
    "lr.fit(x_train,y_train)"
   ]
  },
  {
   "cell_type": "code",
   "execution_count": 33,
   "id": "a29f19c9",
   "metadata": {
    "execution": {
     "iopub.execute_input": "2023-08-20T11:07:25.012437Z",
     "iopub.status.busy": "2023-08-20T11:07:25.011988Z",
     "iopub.status.idle": "2023-08-20T11:07:25.022374Z",
     "shell.execute_reply": "2023-08-20T11:07:25.021501Z"
    },
    "papermill": {
     "duration": 0.044043,
     "end_time": "2023-08-20T11:07:25.024710",
     "exception": false,
     "start_time": "2023-08-20T11:07:24.980667",
     "status": "completed"
    },
    "tags": []
   },
   "outputs": [
    {
     "data": {
      "text/plain": [
       "0.5494227994227994"
      ]
     },
     "execution_count": 33,
     "metadata": {},
     "output_type": "execute_result"
    }
   ],
   "source": [
    "lr.score(x_train,y_train)"
   ]
  },
  {
   "cell_type": "code",
   "execution_count": 34,
   "id": "60ab638f",
   "metadata": {
    "execution": {
     "iopub.execute_input": "2023-08-20T11:07:25.087556Z",
     "iopub.status.busy": "2023-08-20T11:07:25.086860Z",
     "iopub.status.idle": "2023-08-20T11:07:25.096757Z",
     "shell.execute_reply": "2023-08-20T11:07:25.095606Z"
    },
    "papermill": {
     "duration": 0.044379,
     "end_time": "2023-08-20T11:07:25.099537",
     "exception": false,
     "start_time": "2023-08-20T11:07:25.055158",
     "status": "completed"
    },
    "tags": []
   },
   "outputs": [
    {
     "data": {
      "text/plain": [
       "0.5332211942809083"
      ]
     },
     "execution_count": 34,
     "metadata": {},
     "output_type": "execute_result"
    }
   ],
   "source": [
    "lr.score(x_test,y_test)"
   ]
  },
  {
   "cell_type": "code",
   "execution_count": 35,
   "id": "26ff370d",
   "metadata": {
    "execution": {
     "iopub.execute_input": "2023-08-20T11:07:25.162132Z",
     "iopub.status.busy": "2023-08-20T11:07:25.161625Z",
     "iopub.status.idle": "2023-08-20T11:07:25.168930Z",
     "shell.execute_reply": "2023-08-20T11:07:25.167684Z"
    },
    "papermill": {
     "duration": 0.041308,
     "end_time": "2023-08-20T11:07:25.171435",
     "exception": false,
     "start_time": "2023-08-20T11:07:25.130127",
     "status": "completed"
    },
    "tags": []
   },
   "outputs": [],
   "source": [
    "y_pred=lr.predict(x_test)"
   ]
  },
  {
   "cell_type": "code",
   "execution_count": 37,
   "id": "562351c1",
   "metadata": {},
   "outputs": [
    {
     "name": "stderr",
     "output_type": "stream",
     "text": [
      "C:\\Users\\naveen\\anaconda3\\Lib\\site-packages\\_distutils_hack\\__init__.py:33: UserWarning: Setuptools is replacing distutils.\n",
      "  warnings.warn(\"Setuptools is replacing distutils.\")\n",
      "2023/09/11 15:53:36 WARNING mlflow.models.model: Logging model metadata to the tracking server has failed, possibly due older server version. The model artifacts have been logged successfully under mlflow-artifacts:/686109368148166702/f7102877637c4b9e9fa2cf21b371980e/artifacts. In addition to exporting model artifacts, MLflow clients 1.7.0 and above attempt to record model metadata to the tracking store. If logging to a mlflow server via REST, consider upgrading the server version to MLflow 1.7.0 or above. Set logging level to DEBUG via `logging.getLogger(\"mlflow\").setLevel(logging.DEBUG)` to see the full traceback.\n"
     ]
    },
    {
     "name": "stdout",
     "output_type": "stream",
     "text": [
      "Logistic Regression Metrics:rmse:0.8304547985373997,mae:0.5349032800672834,r2:0.12609576394241961\n"
     ]
    }
   ],
   "source": [
    "\n",
    "\n",
    "#run = mlflow.start_run(run_name=\"My model experiment\")\n",
    " #mlflow.set_experiment(\"LOgistic Regression\")\n",
    "rmse,mae,r2 = evaluate(y_test,y_pred)\n",
    "mlflow.set_tag(\"developer\",\"Naveen\")\n",
    "mlflow.set_tag(\"Logistic_Reg\",\"Logistic_Regression\")\n",
    " #mlflow.log_params(params)\n",
    "mlflow.log_metric(\"rmse\",rmse)\n",
    "mlflow.log_metric(\"mae\",mae)\n",
    "mlflow.log_metric(\"r2\",r2)\n",
    "# mlflow.log_metric(\"Accuracy\",acc)                      \n",
    "mlflow.sklearn.log_model(lr,\"Logistic Regression\")\n",
    "print(f\"Logistic Regression Metrics:rmse:{rmse},mae:{mae},r2:{r2}\")       \n"
   ]
  },
  {
   "cell_type": "code",
   "execution_count": 38,
   "id": "8def34f2",
   "metadata": {
    "execution": {
     "iopub.execute_input": "2023-08-20T11:07:25.236094Z",
     "iopub.status.busy": "2023-08-20T11:07:25.235296Z",
     "iopub.status.idle": "2023-08-20T11:07:25.239839Z",
     "shell.execute_reply": "2023-08-20T11:07:25.238980Z"
    },
    "papermill": {
     "duration": 0.040752,
     "end_time": "2023-08-20T11:07:25.242087",
     "exception": false,
     "start_time": "2023-08-20T11:07:25.201335",
     "status": "completed"
    },
    "tags": []
   },
   "outputs": [],
   "source": [
    "from sklearn.metrics import ConfusionMatrixDisplay,confusion_matrix"
   ]
  },
  {
   "cell_type": "code",
   "execution_count": 39,
   "id": "b28b789e",
   "metadata": {
    "execution": {
     "iopub.execute_input": "2023-08-20T11:07:25.304110Z",
     "iopub.status.busy": "2023-08-20T11:07:25.303358Z",
     "iopub.status.idle": "2023-08-20T11:07:25.844505Z",
     "shell.execute_reply": "2023-08-20T11:07:25.843415Z"
    },
    "papermill": {
     "duration": 0.575292,
     "end_time": "2023-08-20T11:07:25.847088",
     "exception": false,
     "start_time": "2023-08-20T11:07:25.271796",
     "status": "completed"
    },
    "tags": []
   },
   "outputs": [
    {
     "data": {
      "text/plain": [
       "<sklearn.metrics._plot.confusion_matrix.ConfusionMatrixDisplay at 0x17c7c1b9350>"
      ]
     },
     "execution_count": 39,
     "metadata": {},
     "output_type": "execute_result"
    },
    {
     "data": {
      "image/png": "[encoded data removed]",
      "text/plain": [
       "<Figure size 640x480 with 2 Axes>"
      ]
     },
     "metadata": {},
     "output_type": "display_data"
    }
   ],
   "source": [
    "cmd=ConfusionMatrixDisplay(confusion_matrix=confusion_matrix(y_test,y_pred,labels=lr.classes_),display_labels=lr.classes_)\n",
    "cmd.plot()"
   ]
  },
  {
   "cell_type": "code",
   "execution_count": 40,
   "id": "0410a75d",
   "metadata": {},
   "outputs": [
    {
     "name": "stdout",
     "output_type": "stream",
     "text": [
      "mlflow-artifacts:/686109368148166702/b1e894c2e0ba491d97744847b9ec3eaf/artifacts\n",
      "runID: f7102877637c4b9e9fa2cf21b371980e\n"
     ]
    }
   ],
   "source": [
    "# close mlflow connection\n",
    "run_id = run.info.run_uuid\n",
    "experiment_id = run.info.experiment_id\n",
    "mlflow.end_run()\n",
    "print(mlflow.get_artifact_uri())\n",
    "#print(f'artifact_uri = {mlflow.get_artifact_uri()}')\n",
    "print(\"runID: %s\" % run_id)"
   ]
  },
  {
   "cell_type": "markdown",
   "id": "241030c6",
   "metadata": {},
   "source": [
    "# Model No -2 - Logistic Regression with Solver"
   ]
  },
  {
   "cell_type": "code",
   "execution_count": null,
   "id": "278a7640",
   "metadata": {
    "execution": {
     "iopub.execute_input": "2023-08-20T11:07:25.909887Z",
     "iopub.status.busy": "2023-08-20T11:07:25.909493Z",
     "iopub.status.idle": "2023-08-20T11:07:25.914593Z",
     "shell.execute_reply": "2023-08-20T11:07:25.913275Z"
    },
    "papermill": {
     "duration": 0.03939,
     "end_time": "2023-08-20T11:07:25.916924",
     "exception": false,
     "start_time": "2023-08-20T11:07:25.877534",
     "status": "completed"
    },
    "tags": []
   },
   "outputs": [],
   "source": [
    "from sklearn.linear_model import LogisticRegressionCV"
   ]
  },
  {
   "cell_type": "code",
   "execution_count": null,
   "id": "2a12a4cf",
   "metadata": {
    "execution": {
     "iopub.execute_input": "2023-08-20T11:07:25.979519Z",
     "iopub.status.busy": "2023-08-20T11:07:25.979126Z",
     "iopub.status.idle": "2023-08-20T11:07:25.983951Z",
     "shell.execute_reply": "2023-08-20T11:07:25.983090Z"
    },
    "papermill": {
     "duration": 0.038757,
     "end_time": "2023-08-20T11:07:25.986208",
     "exception": false,
     "start_time": "2023-08-20T11:07:25.947451",
     "status": "completed"
    },
    "tags": []
   },
   "outputs": [],
   "source": [
    "lr_CV=LogisticRegressionCV(Cs=10,cv=4,solver='liblinear',penalty='l1',max_iter=5000)"
   ]
  },
  {
   "cell_type": "code",
   "execution_count": null,
   "id": "00e41b3f",
   "metadata": {
    "execution": {
     "iopub.execute_input": "2023-08-20T11:07:26.049130Z",
     "iopub.status.busy": "2023-08-20T11:07:26.048697Z",
     "iopub.status.idle": "2023-08-20T11:07:44.867172Z",
     "shell.execute_reply": "2023-08-20T11:07:44.865980Z"
    },
    "papermill": {
     "duration": 18.853311,
     "end_time": "2023-08-20T11:07:44.870119",
     "exception": false,
     "start_time": "2023-08-20T11:07:26.016808",
     "status": "completed"
    },
    "tags": []
   },
   "outputs": [],
   "source": [
    "lr_CV.fit(x_train,y_train)"
   ]
  },
  {
   "cell_type": "code",
   "execution_count": null,
   "id": "99e7a45c",
   "metadata": {
    "execution": {
     "iopub.execute_input": "2023-08-20T11:07:44.933751Z",
     "iopub.status.busy": "2023-08-20T11:07:44.933351Z",
     "iopub.status.idle": "2023-08-20T11:07:44.943693Z",
     "shell.execute_reply": "2023-08-20T11:07:44.942603Z"
    },
    "papermill": {
     "duration": 0.044956,
     "end_time": "2023-08-20T11:07:44.946096",
     "exception": false,
     "start_time": "2023-08-20T11:07:44.901140",
     "status": "completed"
    },
    "tags": []
   },
   "outputs": [],
   "source": [
    "lr_CV.score(x_train,y_train)"
   ]
  },
  {
   "cell_type": "code",
   "execution_count": null,
   "id": "33ced914",
   "metadata": {
    "execution": {
     "iopub.execute_input": "2023-08-20T11:07:45.009921Z",
     "iopub.status.busy": "2023-08-20T11:07:45.009503Z",
     "iopub.status.idle": "2023-08-20T11:07:45.019970Z",
     "shell.execute_reply": "2023-08-20T11:07:45.018931Z"
    },
    "papermill": {
     "duration": 0.045328,
     "end_time": "2023-08-20T11:07:45.022289",
     "exception": false,
     "start_time": "2023-08-20T11:07:44.976961",
     "status": "completed"
    },
    "tags": []
   },
   "outputs": [],
   "source": [
    "lr_CV.score(x_test,y_test)"
   ]
  },
  {
   "cell_type": "code",
   "execution_count": null,
   "id": "1e895870",
   "metadata": {
    "execution": {
     "iopub.execute_input": "2023-08-20T11:07:45.086228Z",
     "iopub.status.busy": "2023-08-20T11:07:45.085816Z",
     "iopub.status.idle": "2023-08-20T11:07:45.092566Z",
     "shell.execute_reply": "2023-08-20T11:07:45.091432Z"
    },
    "papermill": {
     "duration": 0.041765,
     "end_time": "2023-08-20T11:07:45.095071",
     "exception": false,
     "start_time": "2023-08-20T11:07:45.053306",
     "status": "completed"
    },
    "tags": []
   },
   "outputs": [],
   "source": [
    "y_pred=lr_CV.predict(x_test)"
   ]
  },
  {
   "cell_type": "code",
   "execution_count": null,
   "id": "5e9d92ff",
   "metadata": {},
   "outputs": [],
   "source": [
    "def objective(params):\n",
    "    with mlflow.start_run():\n",
    "        rmse,mae,r2 = evaluate(y_test,y_pred)\n",
    "        mlflow.set_tag(\"developer\",\"Naveen\")\n",
    "        mlflow.set_tag(\"Logistic_Reg\",\"Logistic_Regression\")\n",
    "        mlflow.log_params(params)\n",
    "        mlflow.log_metric(\"rmse\",rmse)\n",
    "        mlflow.log_metric(\"mae\",mae)\n",
    "        mlflow.log_metric(\"r2\",r2)\n",
    "        mlflow.sklearn.log_model(lr_CV,\"Logistic Regression\")\n",
    "        print(f\"Logistic Regression Metrics:rmse:{rmse},mae:{mae},r2:{r2}\")\n",
    "    return {'loss':rmse,'status':STATUS_OK}"
   ]
  },
  {
   "cell_type": "code",
   "execution_count": null,
   "id": "5cbbf9ec",
   "metadata": {
    "execution": {
     "iopub.execute_input": "2023-08-20T11:07:45.158820Z",
     "iopub.status.busy": "2023-08-20T11:07:45.158417Z",
     "iopub.status.idle": "2023-08-20T11:07:45.594751Z",
     "shell.execute_reply": "2023-08-20T11:07:45.593573Z"
    },
    "papermill": {
     "duration": 0.471366,
     "end_time": "2023-08-20T11:07:45.597391",
     "exception": false,
     "start_time": "2023-08-20T11:07:45.126025",
     "status": "completed"
    },
    "tags": []
   },
   "outputs": [],
   "source": [
    "cmd=ConfusionMatrixDisplay(confusion_matrix=confusion_matrix(y_test,y_pred,labels=lr_CV.classes_),display_labels=lr_CV.classes_)\n",
    "cmd.plot()"
   ]
  },
  {
   "cell_type": "markdown",
   "id": "ab556b28",
   "metadata": {},
   "source": [
    "# Model No -3 KNN Model(K-Nearest Neighbors Algorithm)"
   ]
  },
  {
   "cell_type": "code",
   "execution_count": null,
   "id": "72c87fac",
   "metadata": {
    "execution": {
     "iopub.execute_input": "2023-08-20T11:07:48.129121Z",
     "iopub.status.busy": "2023-08-20T11:07:48.128654Z",
     "iopub.status.idle": "2023-08-20T11:07:48.256876Z",
     "shell.execute_reply": "2023-08-20T11:07:48.255745Z"
    },
    "papermill": {
     "duration": 0.165495,
     "end_time": "2023-08-20T11:07:48.259855",
     "exception": false,
     "start_time": "2023-08-20T11:07:48.094360",
     "status": "completed"
    },
    "tags": []
   },
   "outputs": [],
   "source": [
    "from sklearn.neighbors import KNeighborsClassifier"
   ]
  },
  {
   "cell_type": "code",
   "execution_count": null,
   "id": "09d8feff",
   "metadata": {
    "execution": {
     "iopub.execute_input": "2023-08-20T11:07:48.328411Z",
     "iopub.status.busy": "2023-08-20T11:07:48.328021Z",
     "iopub.status.idle": "2023-08-20T11:07:48.333777Z",
     "shell.execute_reply": "2023-08-20T11:07:48.332021Z"
    },
    "papermill": {
     "duration": 0.043735,
     "end_time": "2023-08-20T11:07:48.337090",
     "exception": false,
     "start_time": "2023-08-20T11:07:48.293355",
     "status": "completed"
    },
    "tags": []
   },
   "outputs": [],
   "source": [
    "lr_knn=KNeighborsClassifier(n_neighbors=6,metric='euclidean')"
   ]
  },
  {
   "cell_type": "code",
   "execution_count": null,
   "id": "44de5531",
   "metadata": {
    "execution": {
     "iopub.execute_input": "2023-08-20T11:07:48.405396Z",
     "iopub.status.busy": "2023-08-20T11:07:48.404890Z",
     "iopub.status.idle": "2023-08-20T11:07:48.416622Z",
     "shell.execute_reply": "2023-08-20T11:07:48.415735Z"
    },
    "papermill": {
     "duration": 0.04783,
     "end_time": "2023-08-20T11:07:48.418607",
     "exception": false,
     "start_time": "2023-08-20T11:07:48.370777",
     "status": "completed"
    },
    "tags": []
   },
   "outputs": [],
   "source": [
    "lr_knn.fit(x_train,y_train)"
   ]
  },
  {
   "cell_type": "code",
   "execution_count": null,
   "id": "5f027d0b",
   "metadata": {
    "execution": {
     "iopub.execute_input": "2023-08-20T11:07:48.486963Z",
     "iopub.status.busy": "2023-08-20T11:07:48.486545Z",
     "iopub.status.idle": "2023-08-20T11:07:48.536351Z",
     "shell.execute_reply": "2023-08-20T11:07:48.535156Z"
    },
    "papermill": {
     "duration": 0.08743,
     "end_time": "2023-08-20T11:07:48.538892",
     "exception": false,
     "start_time": "2023-08-20T11:07:48.451462",
     "status": "completed"
    },
    "tags": []
   },
   "outputs": [],
   "source": [
    "lr_knn.score(x_train,y_train)"
   ]
  },
  {
   "cell_type": "code",
   "execution_count": null,
   "id": "67a0f689",
   "metadata": {
    "execution": {
     "iopub.execute_input": "2023-08-20T11:07:48.608505Z",
     "iopub.status.busy": "2023-08-20T11:07:48.607306Z",
     "iopub.status.idle": "2023-08-20T11:07:48.634987Z",
     "shell.execute_reply": "2023-08-20T11:07:48.634137Z"
    },
    "papermill": {
     "duration": 0.06546,
     "end_time": "2023-08-20T11:07:48.637429",
     "exception": false,
     "start_time": "2023-08-20T11:07:48.571969",
     "status": "completed"
    },
    "tags": []
   },
   "outputs": [],
   "source": [
    "lr_knn.score(x_test,y_test)"
   ]
  },
  {
   "cell_type": "code",
   "execution_count": null,
   "id": "3ff2df7c",
   "metadata": {
    "execution": {
     "iopub.execute_input": "2023-08-20T11:07:48.706501Z",
     "iopub.status.busy": "2023-08-20T11:07:48.706089Z",
     "iopub.status.idle": "2023-08-20T11:07:48.713233Z",
     "shell.execute_reply": "2023-08-20T11:07:48.712154Z"
    },
    "papermill": {
     "duration": 0.044494,
     "end_time": "2023-08-20T11:07:48.715306",
     "exception": false,
     "start_time": "2023-08-20T11:07:48.670812",
     "status": "completed"
    },
    "tags": []
   },
   "outputs": [],
   "source": [
    "y_pred=lr_knn.predict(x_test)"
   ]
  },
  {
   "cell_type": "code",
   "execution_count": null,
   "id": "ee45b963",
   "metadata": {},
   "outputs": [],
   "source": [
    "def objective(params):\n",
    "    with mlflow.start_run():\n",
    "        rmse,mae,r2 = evaluate(y_test,y_pred)\n",
    "        mlflow.set_tag(\"developer\",\"shaik\")\n",
    "        mlflow.set_tag(\"KNN\",\"KNN\")\n",
    "        mlflow.log_metric(\"rmse\",rmse)\n",
    "        mlflow.log_metric(\"mae\",mae)\n",
    "        mlflow.log_metric(\"r2\",r2)\n",
    "        mlflow.sklearn.log_model(lr_knn,\"KNN\")\n",
    "        print(f\"KNN:rmse:{rmse},mae:{mae},r2:{r2}\")\n",
    "    return {'loss':rmse,'status':STATUS_OK}  "
   ]
  },
  {
   "cell_type": "code",
   "execution_count": null,
   "id": "73d1bbbb",
   "metadata": {
    "execution": {
     "iopub.execute_input": "2023-08-20T11:07:48.784553Z",
     "iopub.status.busy": "2023-08-20T11:07:48.783515Z",
     "iopub.status.idle": "2023-08-20T11:07:49.234510Z",
     "shell.execute_reply": "2023-08-20T11:07:49.233341Z"
    },
    "papermill": {
     "duration": 0.488208,
     "end_time": "2023-08-20T11:07:49.236966",
     "exception": false,
     "start_time": "2023-08-20T11:07:48.748758",
     "status": "completed"
    },
    "tags": []
   },
   "outputs": [],
   "source": [
    "cmd=ConfusionMatrixDisplay(confusion_matrix=confusion_matrix(y_test,y_pred,labels=lr_knn.classes_),display_labels=lr_knn.classes_)\n",
    "cmd.plot()"
   ]
  },
  {
   "cell_type": "markdown",
   "id": "b12a5abf",
   "metadata": {},
   "source": [
    "# Model -SVC "
   ]
  },
  {
   "cell_type": "code",
   "execution_count": null,
   "id": "4eb7a321",
   "metadata": {
    "execution": {
     "iopub.execute_input": "2023-08-20T11:07:49.307338Z",
     "iopub.status.busy": "2023-08-20T11:07:49.306890Z",
     "iopub.status.idle": "2023-08-20T11:07:49.311688Z",
     "shell.execute_reply": "2023-08-20T11:07:49.310651Z"
    },
    "papermill": {
     "duration": 0.042697,
     "end_time": "2023-08-20T11:07:49.313898",
     "exception": false,
     "start_time": "2023-08-20T11:07:49.271201",
     "status": "completed"
    },
    "tags": []
   },
   "outputs": [],
   "source": [
    "from sklearn.svm import SVC"
   ]
  },
  {
   "cell_type": "code",
   "execution_count": null,
   "id": "51774a99",
   "metadata": {
    "execution": {
     "iopub.execute_input": "2023-08-20T11:07:49.385909Z",
     "iopub.status.busy": "2023-08-20T11:07:49.385521Z",
     "iopub.status.idle": "2023-08-20T11:07:49.390422Z",
     "shell.execute_reply": "2023-08-20T11:07:49.389289Z"
    },
    "papermill": {
     "duration": 0.042611,
     "end_time": "2023-08-20T11:07:49.392570",
     "exception": false,
     "start_time": "2023-08-20T11:07:49.349959",
     "status": "completed"
    },
    "tags": []
   },
   "outputs": [],
   "source": [
    "lr_svc=SVC()"
   ]
  },
  {
   "cell_type": "code",
   "execution_count": null,
   "id": "12717657",
   "metadata": {
    "execution": {
     "iopub.execute_input": "2023-08-20T11:07:49.462300Z",
     "iopub.status.busy": "2023-08-20T11:07:49.461568Z",
     "iopub.status.idle": "2023-08-20T11:07:49.526823Z",
     "shell.execute_reply": "2023-08-20T11:07:49.525969Z"
    },
    "papermill": {
     "duration": 0.102815,
     "end_time": "2023-08-20T11:07:49.528963",
     "exception": false,
     "start_time": "2023-08-20T11:07:49.426148",
     "status": "completed"
    },
    "tags": []
   },
   "outputs": [],
   "source": [
    "lr_svc.fit(x_train,y_train)"
   ]
  },
  {
   "cell_type": "code",
   "execution_count": null,
   "id": "a19200e3",
   "metadata": {
    "execution": {
     "iopub.execute_input": "2023-08-20T11:07:49.599041Z",
     "iopub.status.busy": "2023-08-20T11:07:49.598581Z",
     "iopub.status.idle": "2023-08-20T11:07:49.657655Z",
     "shell.execute_reply": "2023-08-20T11:07:49.656531Z"
    },
    "papermill": {
     "duration": 0.097225,
     "end_time": "2023-08-20T11:07:49.660205",
     "exception": false,
     "start_time": "2023-08-20T11:07:49.562980",
     "status": "completed"
    },
    "tags": []
   },
   "outputs": [],
   "source": [
    "lr_svc.score(x_train,y_train)"
   ]
  },
  {
   "cell_type": "code",
   "execution_count": null,
   "id": "009f701d",
   "metadata": {
    "execution": {
     "iopub.execute_input": "2023-08-20T11:07:49.731123Z",
     "iopub.status.busy": "2023-08-20T11:07:49.730310Z",
     "iopub.status.idle": "2023-08-20T11:07:49.762700Z",
     "shell.execute_reply": "2023-08-20T11:07:49.761664Z"
    },
    "papermill": {
     "duration": 0.070483,
     "end_time": "2023-08-20T11:07:49.765110",
     "exception": false,
     "start_time": "2023-08-20T11:07:49.694627",
     "status": "completed"
    },
    "tags": []
   },
   "outputs": [],
   "source": [
    "lr_svc.score(x_test,y_test)"
   ]
  },
  {
   "cell_type": "code",
   "execution_count": null,
   "id": "2439941c",
   "metadata": {
    "execution": {
     "iopub.execute_input": "2023-08-20T11:07:49.835681Z",
     "iopub.status.busy": "2023-08-20T11:07:49.834870Z",
     "iopub.status.idle": "2023-08-20T11:07:49.841762Z",
     "shell.execute_reply": "2023-08-20T11:07:49.841007Z"
    },
    "papermill": {
     "duration": 0.044917,
     "end_time": "2023-08-20T11:07:49.844120",
     "exception": false,
     "start_time": "2023-08-20T11:07:49.799203",
     "status": "completed"
    },
    "tags": []
   },
   "outputs": [],
   "source": [
    "y_pred=lr_svc.predict(x_test)"
   ]
  },
  {
   "cell_type": "code",
   "execution_count": null,
   "id": "cc9745a4",
   "metadata": {},
   "outputs": [],
   "source": [
    "def objective(params):\n",
    "    with mlflow.start_run():\n",
    "        rmse,mae,r2 = evaluate(y_test,y_pred)\n",
    "        mlflow.set_tag(\"developer\",\"YYYY\")\n",
    "        mlflow.set_tag(\"SVC\",\"SVC\")\n",
    "        mlflow.log_metric(\"rmse\",rmse)\n",
    "        mlflow.log_metric(\"mae\",mae)\n",
    "        mlflow.log_metric(\"r2\",r2)\n",
    "        mlflow.sklearn.log_model(lr_svc,\"SVC\")\n",
    "        print(f\"SVC:rmse:{rmse},mae:{mae},r2:{r2}\")\n",
    "    return {'loss':rmse,'status':STATUS_OK} "
   ]
  },
  {
   "cell_type": "code",
   "execution_count": null,
   "id": "8a051c00",
   "metadata": {
    "execution": {
     "iopub.execute_input": "2023-08-20T11:07:49.917028Z",
     "iopub.status.busy": "2023-08-20T11:07:49.915770Z",
     "iopub.status.idle": "2023-08-20T11:07:50.367866Z",
     "shell.execute_reply": "2023-08-20T11:07:50.366550Z"
    },
    "papermill": {
     "duration": 0.492077,
     "end_time": "2023-08-20T11:07:50.370477",
     "exception": false,
     "start_time": "2023-08-20T11:07:49.878400",
     "status": "completed"
    },
    "tags": []
   },
   "outputs": [],
   "source": [
    "cmd=ConfusionMatrixDisplay(confusion_matrix=confusion_matrix(y_test,y_pred,labels=lr_svc.classes_),display_labels=lr_svc.classes_)\n",
    "cmd.plot()"
   ]
  },
  {
   "cell_type": "code",
   "execution_count": null,
   "id": "3f5d6746",
   "metadata": {},
   "outputs": [],
   "source": []
  }
 ],
 "metadata": {
  "kernelspec": {
   "display_name": "Python 3 (ipykernel)",
   "language": "python",
   "name": "python3"
  },
  "language_info": {
   "codemirror_mode": {
    "name": "ipython",
    "version": 3
   },
   "file_extension": ".py",
   "mimetype": "text/x-python",
   "name": "python",
   "nbconvert_exporter": "python",
   "pygments_lexer": "ipython3",
   "version": "3.11.3"
  },
  "papermill": {
   "default_parameters": {},
   "duration": 47.968457,
   "end_time": "2023-08-20T11:07:52.713371",
   "environment_variables": {},
   "exception": null,
   "input_path": "__notebook__.ipynb",
   "output_path": "__notebook__.ipynb",
   "parameters": {},
   "start_time": "2023-08-20T11:07:04.744914",
   "version": "2.4.0"
  }
 },
 "nbformat": 4,
 "nbformat_minor": 5
}
